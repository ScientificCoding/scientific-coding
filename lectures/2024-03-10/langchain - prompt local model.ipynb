{
 "cells": [
  {
   "cell_type": "markdown",
   "id": "64c5fe7c-1e69-4baa-a6b6-2abe4e3ab864",
   "metadata": {},
   "source": [
    "## Langchain - Prompt a local Model \n",
    "\n",
    "This notebook demonstrates how to prompt a local model imported from Huggingface using Langchain.\n",
    "The example follows somewhat closely the instructions provided by Langchain found here: https://python.langchain.com/docs/integrations/llms/huggingface_pipelines with some small modifications.\n"
   ]
  },
  {
   "cell_type": "code",
   "execution_count": null,
   "id": "1fa2eaa7-4ad6-4b14-bfa1-4cb08c93cbea",
   "metadata": {},
   "outputs": [],
   "source": [
    "_ = !pip install transformers\n",
    "_ = !pip install langchain\n",
    "_ = !pip install langchain_community\n",
    "_ = !pip install accelerate # to use GPU"
   ]
  },
  {
   "cell_type": "code",
   "execution_count": null,
   "id": "77c711eb-937b-451e-b0f1-7be759ba84f4",
   "metadata": {},
   "outputs": [],
   "source": [
    "from langchain_community.llms.huggingface_pipeline import HuggingFacePipeline\n",
    "from langchain.prompts import PromptTemplate\n",
    "from transformers import AutoModelForCausalLM, AutoTokenizer, pipeline"
   ]
  },
  {
   "cell_type": "markdown",
   "id": "d3d4c702-d390-459d-b779-81d63a31ff30",
   "metadata": {},
   "source": [
    "### Import model from HuggingFace\n",
    "We chose the following model for this demo.\n",
    "\n",
    "https://huggingface.co/Salesforce/codegen-350M-mono"
   ]
  },
  {
   "cell_type": "code",
   "execution_count": null,
   "id": "e5a9c291-8f82-4a28-9b7a-32e9bce48b68",
   "metadata": {},
   "outputs": [],
   "source": [
    "model_id = \"Salesforce/codegen-350M-mono\"\n",
    "tokenizer = AutoTokenizer.from_pretrained(model_id)\n",
    "model = AutoModelForCausalLM.from_pretrained(model_id, device_map=\"auto\")"
   ]
  },
  {
   "cell_type": "markdown",
   "id": "0eaa474c-f1ee-4045-af59-4b8b7a4a42f1",
   "metadata": {},
   "source": [
    "### Create the pipeline"
   ]
  },
  {
   "cell_type": "code",
   "execution_count": null,
   "id": "e030dd9b-fbfd-4eba-b02e-4539647818dc",
   "metadata": {},
   "outputs": [],
   "source": [
    "pipe = pipeline(\"text-generation\", model=model, tokenizer=tokenizer, max_new_tokens=100)\n",
    "hf = HuggingFacePipeline(pipeline=pipe)"
   ]
  },
  {
   "cell_type": "markdown",
   "id": "93e2d570-fc46-4aa9-a381-6947610551e6",
   "metadata": {},
   "source": [
    "### Craft the prompt template"
   ]
  },
  {
   "cell_type": "code",
   "execution_count": null,
   "id": "c35ddb0b-5069-4684-8e33-bef8da038a23",
   "metadata": {},
   "outputs": [],
   "source": [
    "template = \"\"\"{question}\"\"\"\n",
    "prompt = PromptTemplate.from_template(template)"
   ]
  },
  {
   "cell_type": "markdown",
   "id": "42e69ea8-b084-4888-b21a-b42f6bd94315",
   "metadata": {},
   "source": [
    "### Construct the chain"
   ]
  },
  {
   "cell_type": "code",
   "execution_count": null,
   "id": "4de93bd8-befb-4648-80ba-9799352c9ada",
   "metadata": {},
   "outputs": [],
   "source": [
    "chain = prompt | hf"
   ]
  },
  {
   "cell_type": "markdown",
   "id": "32e09c0f-ccb8-48f1-ab56-4cece0d25619",
   "metadata": {},
   "source": [
    "### Prompt the chain"
   ]
  },
  {
   "cell_type": "code",
   "execution_count": null,
   "id": "cc9b5208-84f1-4d84-afce-93fd06255f80",
   "metadata": {},
   "outputs": [],
   "source": [
    "question = \"def make_get_call(url):\"\n",
    "print(chain.invoke({\"question\": question}))"
   ]
  }
 ],
 "metadata": {
  "kernelspec": {
   "display_name": "Python 3 (ipykernel)",
   "language": "python",
   "name": "python3"
  },
  "language_info": {
   "codemirror_mode": {
    "name": "ipython",
    "version": 3
   },
   "file_extension": ".py",
   "mimetype": "text/x-python",
   "name": "python",
   "nbconvert_exporter": "python",
   "pygments_lexer": "ipython3",
   "version": "3.10.8"
  }
 },
 "nbformat": 4,
 "nbformat_minor": 5
}
