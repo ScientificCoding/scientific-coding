{
 "cells": [
  {
   "cell_type": "markdown",
   "id": "a79ef8f2",
   "metadata": {},
   "source": [
    "## Inflation Price Analytics"
   ]
  },
  {
   "cell_type": "markdown",
   "id": "6a7ee774",
   "metadata": {},
   "source": [
    "- query the API of the US Bureau of Labor Statistics\n",
    "- format time series data\n",
    "- plot and compare time series data"
   ]
  },
  {
   "cell_type": "code",
   "execution_count": null,
   "id": "8e2102b5",
   "metadata": {},
   "outputs": [],
   "source": [
    "_ = !pip install matplotlib\n",
    "_ = !pip install pandas\n",
    "_ = !pip install requests"
   ]
  },
  {
   "cell_type": "code",
   "execution_count": null,
   "id": "7f1a1592",
   "metadata": {},
   "outputs": [],
   "source": [
    "import json\n",
    "import requests\n",
    "import pandas as pd\n",
    "import matplotlib.pyplot as plt"
   ]
  },
  {
   "cell_type": "code",
   "execution_count": null,
   "id": "bc71206a",
   "metadata": {},
   "outputs": [],
   "source": [
    "# get API key at https://www.bls.gov/\n",
    "from apikey import bls"
   ]
  },
  {
   "cell_type": "code",
   "execution_count": null,
   "id": "2e473b50",
   "metadata": {},
   "outputs": [],
   "source": [
    "# information on data available\n",
    "# https://www.bls.gov/help/hlpforma.htm#AP"
   ]
  },
  {
   "cell_type": "code",
   "execution_count": null,
   "id": "921a3e61",
   "metadata": {},
   "outputs": [],
   "source": [
    "series_map = {\n",
    "    'steak [lb]': 'APU0000703511',\n",
    "    'eggs [dozen]': 'APU0000708111',\n",
    "    'tomatoes [lb]': 'APU0000712311',\n",
    "    'dried beans [lb]': 'APU0000714233',\n",
    "    'electricity [kWh]': 'APU000072610',\n",
    "    'gasoline, unleaded regular [gallon]': 'APU000074714'\n",
    "}\n",
    "for k, v in list(series_map.items()):\n",
    "    series_map[v] = k\n",
    "series_map"
   ]
  },
  {
   "cell_type": "code",
   "execution_count": null,
   "id": "077f32f0",
   "metadata": {},
   "outputs": [],
   "source": [
    "url = 'https://api.bls.gov/publicAPI/v2/timeseries/data/'\n",
    "headers = {'Content-type': 'application/json'}\n",
    "data = json.dumps(\n",
    "    {'seriesid': [\n",
    "        series_map['steak [lb]'],\n",
    "        series_map['eggs [dozen]'],\n",
    "        series_map['tomatoes [lb]'],\n",
    "        series_map['dried beans [lb]'],\n",
    "        series_map['electricity [kWh]'],\n",
    "        series_map['gasoline, unleaded regular [gallon]'],\n",
    "    ], \n",
    "     'registrationkey': bls, \n",
    "     'startyear':'2019', \n",
    "     'endyear':'2023'})\n",
    "\n",
    "# Send API request\n",
    "response = requests.post(url, data=data, headers=headers)"
   ]
  },
  {
   "cell_type": "code",
   "execution_count": null,
   "id": "0032c62f",
   "metadata": {},
   "outputs": [],
   "source": [
    "response"
   ]
  },
  {
   "cell_type": "code",
   "execution_count": null,
   "id": "34470af4",
   "metadata": {},
   "outputs": [],
   "source": [
    "response.json()"
   ]
  },
  {
   "cell_type": "code",
   "execution_count": null,
   "id": "04cc7bc5",
   "metadata": {},
   "outputs": [],
   "source": [
    "series_list = response.json()['Results']['series']"
   ]
  },
  {
   "cell_type": "code",
   "execution_count": null,
   "id": "24f3abe6",
   "metadata": {},
   "outputs": [],
   "source": [
    "data = {\n",
    "    'item': [],\n",
    "    'year-month': [],\n",
    "    'price': []\n",
    "}"
   ]
  },
  {
   "cell_type": "code",
   "execution_count": null,
   "id": "84bdcadf",
   "metadata": {},
   "outputs": [],
   "source": [
    "for series in series_list:\n",
    "    item = series_map[series['seriesID']]\n",
    "    for record in series['data']:\n",
    "        if not record['period'].startswith('M'):\n",
    "            continue\n",
    "        month = record['period'][1:]\n",
    "        year = record['year']\n",
    "        year_month = f'{year}-{month}'\n",
    "        price = float(record['value'])\n",
    "        data['item'].append(item)\n",
    "        data['year-month'].append(year_month)\n",
    "        data['price'].append(price)        "
   ]
  },
  {
   "cell_type": "code",
   "execution_count": null,
   "id": "7aef74f3",
   "metadata": {},
   "outputs": [],
   "source": [
    "df = pd.DataFrame(data)\n",
    "df.head()"
   ]
  },
  {
   "cell_type": "code",
   "execution_count": null,
   "id": "348cddb6",
   "metadata": {},
   "outputs": [],
   "source": [
    "df['year-month'] = pd.to_datetime(df['year-month'], format='%Y-%m')\n",
    "df.set_index('year-month', inplace=True)"
   ]
  },
  {
   "cell_type": "code",
   "execution_count": null,
   "id": "59e32c40",
   "metadata": {},
   "outputs": [],
   "source": [
    "grouped = df.groupby('item')\n",
    "\n",
    "for name, group in grouped:\n",
    "    group['price'].plot(label=name)\n",
    "\n",
    "plt.xlabel('Time')\n",
    "plt.ylabel('Price')\n",
    "plt.title('Price over Time')\n",
    "plt.xticks(rotation = 90)\n",
    "plt.legend(loc='center left', bbox_to_anchor=(1, 0.5))\n",
    "plt.show()"
   ]
  },
  {
   "cell_type": "code",
   "execution_count": null,
   "id": "cde53e59",
   "metadata": {},
   "outputs": [],
   "source": [
    "grouped = df.groupby('item')\n",
    "\n",
    "for name, group in grouped:\n",
    "    starting_price = group.iloc[-1]['price']\n",
    "    group['price_normalized'] = group['price'] / starting_price\n",
    "    group['price_normalized'].plot(label=name)\n",
    "\n",
    "plt.xlabel('Time')\n",
    "plt.ylabel('Normalized Price')\n",
    "plt.title('Normalized Price over Time')\n",
    "plt.xticks(rotation = 90)\n",
    "plt.legend(loc='center left', bbox_to_anchor=(1, 0.5))\n",
    "plt.show()"
   ]
  },
  {
   "cell_type": "code",
   "execution_count": null,
   "id": "7be794d1",
   "metadata": {},
   "outputs": [],
   "source": []
  },
  {
   "cell_type": "code",
   "execution_count": null,
   "id": "72488ff4",
   "metadata": {},
   "outputs": [],
   "source": []
  }
 ],
 "metadata": {
  "@webio": {
   "lastCommId": null,
   "lastKernelId": null
  },
  "kernelspec": {
   "display_name": "python-3.10.8",
   "language": "python",
   "name": "python-3.10.8"
  },
  "language_info": {
   "codemirror_mode": {
    "name": "ipython",
    "version": 3
   },
   "file_extension": ".py",
   "mimetype": "text/x-python",
   "name": "python",
   "nbconvert_exporter": "python",
   "pygments_lexer": "ipython3",
   "version": "3.10.8"
  }
 },
 "nbformat": 4,
 "nbformat_minor": 5
}
