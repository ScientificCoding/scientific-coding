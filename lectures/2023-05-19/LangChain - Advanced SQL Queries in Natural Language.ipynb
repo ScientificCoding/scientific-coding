{
 "cells": [
  {
   "cell_type": "markdown",
   "id": "1da7f608",
   "metadata": {},
   "source": [
    "## LangChain - Advanced SQL Queries in Natural Language"
   ]
  },
  {
   "cell_type": "code",
   "execution_count": null,
   "id": "216f17e4",
   "metadata": {},
   "outputs": [],
   "source": [
    "_ = !pip install langchain"
   ]
  },
  {
   "cell_type": "code",
   "execution_count": null,
   "id": "69c2f237",
   "metadata": {},
   "outputs": [],
   "source": [
    "import os\n",
    "import sqlite3\n",
    "from langchain import OpenAI, SQLDatabase, SQLDatabaseChain"
   ]
  },
  {
   "cell_type": "markdown",
   "id": "5ec6b30b",
   "metadata": {},
   "source": [
    "### Create and Populate Database"
   ]
  },
  {
   "cell_type": "markdown",
   "id": "193b19b2",
   "metadata": {},
   "source": [
    "![image](2023-05-19_schema.png)"
   ]
  },
  {
   "cell_type": "code",
   "execution_count": null,
   "id": "c1e03d7b",
   "metadata": {},
   "outputs": [],
   "source": [
    "conn = sqlite3.connect('charging_stations.sqlite')\n",
    "cur = conn.cursor()\n",
    "\n",
    "statements = [\n",
    "    \"\"\"\n",
    "        CREATE TABLE IF NOT EXISTS city (\n",
    "            id INTEGER PRIMARY KEY AUTOINCREMENT, \n",
    "            name VARCHAR\n",
    "        );\n",
    "    \"\"\",\n",
    "    \"\"\"\n",
    "        CREATE TABLE IF NOT EXISTS charger_type (\n",
    "            id INTEGER PRIMARY KEY AUTOINCREMENT, \n",
    "            name VARCHAR\n",
    "        );\n",
    "    \"\"\",\n",
    "    \"\"\"\n",
    "        CREATE TABLE IF NOT EXISTS station (\n",
    "            id INTEGER PRIMARY KEY AUTOINCREMENT, \n",
    "            city_id INTEGER,\n",
    "            charger_type_id INT,\n",
    "            FOREIGN KEY(city_id) REFERENCES city(id),\n",
    "            FOREIGN KEY(charger_type_id) REFERENCES charger_type(id)\n",
    "        );\n",
    "    \"\"\",\n",
    "    \"\"\"\n",
    "        CREATE TABLE IF NOT EXISTS available (\n",
    "            station_id INTEGER, \n",
    "            available INTEGER,\n",
    "            FOREIGN KEY(station_id) REFERENCES station(id)\n",
    "        );\n",
    "    \"\"\"\n",
    "]\n",
    "\n",
    "for statement in statements:\n",
    "    cur.execute(statement)\n",
    "conn.commit()"
   ]
  },
  {
   "cell_type": "code",
   "execution_count": null,
   "id": "c306f854",
   "metadata": {},
   "outputs": [],
   "source": [
    "statements = [\n",
    "    \"\"\"INSERT INTO city (id, name) VALUES (1, 'Hong Kong');\"\"\",\n",
    "    \"\"\"INSERT INTO city (id, name) VALUES (2, 'Mumbai');\"\"\",\n",
    "    \"\"\"INSERT INTO city (id, name) VALUES (3, 'New York City');\"\"\",\n",
    "    \"\"\"INSERT INTO city (id, name) VALUES (4, 'Mexico City');\"\"\",\n",
    "    \"\"\"INSERT INTO city (id, name) VALUES (5, 'Teheran');\"\"\",\n",
    "    \n",
    "    \n",
    "    \"\"\"INSERT INTO charger_type (id, name) VALUES (1, 'AC');\"\"\",\n",
    "    \"\"\"INSERT INTO charger_type (id, name) VALUES (2, 'DC');\"\"\",\n",
    "    \n",
    "    \n",
    "    \"\"\"INSERT INTO station (id, city_id, charger_type_id) VALUES (1, 1, 1);\"\"\",\n",
    "    \"\"\"INSERT INTO station (id, city_id, charger_type_id) VALUES (2, 1, 1);\"\"\",\n",
    "    \"\"\"INSERT INTO station (id, city_id, charger_type_id) VALUES (3, 1, 1);\"\"\",\n",
    "    \"\"\"INSERT INTO station (id, city_id, charger_type_id) VALUES (4, 1, 2);\"\"\",\n",
    "    \n",
    "    \"\"\"INSERT INTO station (id, city_id, charger_type_id) VALUES (5, 2, 1);\"\"\",\n",
    "    \"\"\"INSERT INTO station (id, city_id, charger_type_id) VALUES (6, 2, 1);\"\"\",\n",
    "    \"\"\"INSERT INTO station (id, city_id, charger_type_id) VALUES (7, 2, 1);\"\"\",\n",
    "    \"\"\"INSERT INTO station (id, city_id, charger_type_id) VALUES (8, 2, 1);\"\"\",\n",
    "    \"\"\"INSERT INTO station (id, city_id, charger_type_id) VALUES (9, 2, 1);\"\"\",\n",
    "    \"\"\"INSERT INTO station (id, city_id, charger_type_id) VALUES (11, 2, 1);\"\"\",\n",
    "    \"\"\"INSERT INTO station (id, city_id, charger_type_id) VALUES (12, 2, 1);\"\"\",\n",
    "    \"\"\"INSERT INTO station (id, city_id, charger_type_id) VALUES (13, 2, 1);\"\"\",\n",
    "    \"\"\"INSERT INTO station (id, city_id, charger_type_id) VALUES (14, 2, 1);\"\"\",\n",
    "    \n",
    "    \"\"\"INSERT INTO station (id, city_id, charger_type_id) VALUES (15, 3, 2);\"\"\",\n",
    "    \n",
    "    \"\"\"INSERT INTO station (id, city_id, charger_type_id) VALUES (16, 4, 1);\"\"\",\n",
    "    \"\"\"INSERT INTO station (id, city_id, charger_type_id) VALUES (17, 4, 1);\"\"\",\n",
    "    \"\"\"INSERT INTO station (id, city_id, charger_type_id) VALUES (18, 4, 1);\"\"\",\n",
    "    \"\"\"INSERT INTO station (id, city_id, charger_type_id) VALUES (19, 4, 2);\"\"\",\n",
    "    \"\"\"INSERT INTO station (id, city_id, charger_type_id) VALUES (20, 4, 2);\"\"\",\n",
    "    \"\"\"INSERT INTO station (id, city_id, charger_type_id) VALUES (21, 4, 2);\"\"\",\n",
    "    \n",
    "    \"\"\"INSERT INTO station (id, city_id, charger_type_id) VALUES (22, 5, 1);\"\"\",\n",
    "    \"\"\"INSERT INTO station (id, city_id, charger_type_id) VALUES (23, 5, 1);\"\"\",\n",
    "    \"\"\"INSERT INTO station (id, city_id, charger_type_id) VALUES (24, 5, 1);\"\"\",\n",
    "    \"\"\"INSERT INTO station (id, city_id, charger_type_id) VALUES (25, 5, 2);\"\"\",\n",
    "    \n",
    "    \n",
    "    \"\"\"INSERT INTO available (station_id, available) VALUES (1, 0);\"\"\",\n",
    "    \"\"\"INSERT INTO available (station_id, available) VALUES (2, 1);\"\"\",\n",
    "    \"\"\"INSERT INTO available (station_id, available) VALUES (3, 0);\"\"\",\n",
    "    \"\"\"INSERT INTO available (station_id, available) VALUES (4, 1);\"\"\",\n",
    "    \"\"\"INSERT INTO available (station_id, available) VALUES (5, 1);\"\"\",\n",
    "    \"\"\"INSERT INTO available (station_id, available) VALUES (6, 0);\"\"\",\n",
    "    \"\"\"INSERT INTO available (station_id, available) VALUES (7, 1);\"\"\",\n",
    "    \"\"\"INSERT INTO available (station_id, available) VALUES (8, 0);\"\"\",\n",
    "    \"\"\"INSERT INTO available (station_id, available) VALUES (9, 1);\"\"\",\n",
    "    \"\"\"INSERT INTO available (station_id, available) VALUES (10, 1);\"\"\",\n",
    "    \"\"\"INSERT INTO available (station_id, available) VALUES (11, 1);\"\"\",\n",
    "    \"\"\"INSERT INTO available (station_id, available) VALUES (12, 0);\"\"\",\n",
    "    \"\"\"INSERT INTO available (station_id, available) VALUES (13, 0);\"\"\",\n",
    "    \"\"\"INSERT INTO available (station_id, available) VALUES (14, 0);\"\"\",\n",
    "    \"\"\"INSERT INTO available (station_id, available) VALUES (15, 1);\"\"\",\n",
    "    \"\"\"INSERT INTO available (station_id, available) VALUES (16, 1);\"\"\",\n",
    "    \"\"\"INSERT INTO available (station_id, available) VALUES (17, 0);\"\"\",\n",
    "    \"\"\"INSERT INTO available (station_id, available) VALUES (18, 1);\"\"\",\n",
    "    \"\"\"INSERT INTO available (station_id, available) VALUES (19, 0);\"\"\",\n",
    "    \"\"\"INSERT INTO available (station_id, available) VALUES (20, 0);\"\"\",\n",
    "    \"\"\"INSERT INTO available (station_id, available) VALUES (21, 1);\"\"\",\n",
    "    \"\"\"INSERT INTO available (station_id, available) VALUES (22, 1);\"\"\",\n",
    "    \"\"\"INSERT INTO available (station_id, available) VALUES (23, 1);\"\"\",\n",
    "    \"\"\"INSERT INTO available (station_id, available) VALUES (24, 1);\"\"\",\n",
    "    \"\"\"INSERT INTO available (station_id, available) VALUES (25, 0);\"\"\",\n",
    "]\n",
    "for statement in statements:\n",
    "    cur.execute(statement)\n",
    "conn.commit()"
   ]
  },
  {
   "cell_type": "markdown",
   "id": "91e0cf6b",
   "metadata": {},
   "source": [
    "### Connect to OpenAI via LangChain"
   ]
  },
  {
   "cell_type": "code",
   "execution_count": null,
   "id": "e1fd186b",
   "metadata": {},
   "outputs": [],
   "source": [
    "db = SQLDatabase.from_uri('sqlite:///charging_stations.sqlite')\n",
    "os.environ['OPENAI_API_KEY'] = '<your OpenAI API key here>'\n",
    "llm = OpenAI(temperature=0)"
   ]
  },
  {
   "cell_type": "code",
   "execution_count": null,
   "id": "8e020171",
   "metadata": {},
   "outputs": [],
   "source": [
    "db_chain = SQLDatabaseChain(llm=llm, database=db, verbose=True)"
   ]
  },
  {
   "cell_type": "code",
   "execution_count": null,
   "id": "f5bd4a1f",
   "metadata": {},
   "outputs": [],
   "source": [
    "prompt = \"\"\"\n",
    "How many stations are there in New York City?\n",
    "\"\"\"\n",
    "db_chain.run(prompt)"
   ]
  },
  {
   "cell_type": "code",
   "execution_count": null,
   "id": "0013a986",
   "metadata": {},
   "outputs": [],
   "source": [
    "prompt = \"\"\"\n",
    "How many available stations are there in Teheran?\n",
    "\"\"\"\n",
    "db_chain.run(prompt)"
   ]
  },
  {
   "cell_type": "code",
   "execution_count": null,
   "id": "c12d458d",
   "metadata": {},
   "outputs": [],
   "source": [
    "prompt = \"\"\"\n",
    "A charger type 'DC' is needed to fast charge a car. \n",
    "Is there a station in Hong Kong that can be used to fast charge a car?\n",
    "\"\"\"\n",
    "db_chain.run(prompt)"
   ]
  },
  {
   "cell_type": "code",
   "execution_count": null,
   "id": "d40bc49e",
   "metadata": {},
   "outputs": [],
   "source": [
    "prompt = \"\"\"\n",
    "A charger type 'DC' is needed to fast charge a car.\n",
    "The field available has to be 1 in order for the station to be available.\n",
    "How many available stations are there in Mexico City that can be used to fast charge a car?\n",
    "\"\"\"\n",
    "db_chain.run(prompt)"
   ]
  },
  {
   "cell_type": "markdown",
   "id": "230d62a7",
   "metadata": {},
   "source": [
    "**Disclaimer**:\n",
    "\n",
    "Note: OpenAI provides a free API key for initial testing. Once you move to a paid subscription, calling the API in the way demonstrated in this example will incur monetary charges. Refer to OpenAI's pricing information for details.\n",
    "\n",
    "Be aware that information, such as files to train OpenAI's LLM can become public if applied in the way this demo demonstrates. Refer to OpenAI's usage policy for details."
   ]
  }
 ],
 "metadata": {
  "@webio": {
   "lastCommId": null,
   "lastKernelId": null
  },
  "kernelspec": {
   "display_name": "python-3.10.8",
   "language": "python",
   "name": "python-3.10.8"
  },
  "language_info": {
   "codemirror_mode": {
    "name": "ipython",
    "version": 3
   },
   "file_extension": ".py",
   "mimetype": "text/x-python",
   "name": "python",
   "nbconvert_exporter": "python",
   "pygments_lexer": "ipython3",
   "version": "3.10.8"
  }
 },
 "nbformat": 4,
 "nbformat_minor": 5
}
