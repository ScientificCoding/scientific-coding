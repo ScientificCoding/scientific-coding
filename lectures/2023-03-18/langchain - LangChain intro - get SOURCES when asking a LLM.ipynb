{
 "cells": [
  {
   "cell_type": "markdown",
   "id": "7ee33fba",
   "metadata": {},
   "source": [
    "### LangChain intro - get SOURCES when asking a LLM\n",
    "\n",
    "This notebook is used in the [youtube video](https://www.youtube.com/watch?v=v-TPkKR2Ltk) \"LangChain intro - get SOURCES when asking a LLM\" to introduce the reader into training an LLM on pdfs in order to be able to query the index with questions and obtain sources in addition to answers."
   ]
  },
  {
   "cell_type": "code",
   "execution_count": null,
   "id": "f9ccf1bc",
   "metadata": {},
   "outputs": [],
   "source": [
    "_ = !pip install langchain\n",
    "_ = !pip install unstructured\n",
    "_ = !pip install openai\n",
    "_ = !pip install pybind11\n",
    "_ = !pip install chromadb\n",
    "_ = !pip install Cython\n",
    "_ = !pip3 install \"git+https://github.com/philferriere/cocoapi.git#egg=pycocotools&subdirectory=PythonAPI\"\n",
    "_ = !pip install unstructured[local-inference]\n",
    "_ = !pip install 'git+https://github.com/facebookresearch/detectron2.git'\n",
    "# on Mac\n",
    "#_ = !CC=clang CXX=clang++ ARCHFLAGS=\"-arch x86_64\" pip install 'git+https://github.com/facebookresearch/detectron2.git'\n",
    "_ = !pip install layoutparser[layoutmodels,tesseract]\n",
    "_ = !pip install pytesseract"
   ]
  },
  {
   "cell_type": "code",
   "execution_count": null,
   "id": "2a8d4159",
   "metadata": {},
   "outputs": [],
   "source": [
    "import itertools\n",
    "from langchain.embeddings.openai import OpenAIEmbeddings\n",
    "from langchain.text_splitter import CharacterTextSplitter\n",
    "from langchain.vectorstores import Chroma\n",
    "from langchain.document_loaders import UnstructuredPDFLoader\n",
    "from langchain.indexes import VectorstoreIndexCreator\n",
    "from langchain.chains import VectorDBQAWithSourcesChain\n",
    "from langchain import OpenAI"
   ]
  },
  {
   "cell_type": "code",
   "execution_count": null,
   "id": "8060b5dd",
   "metadata": {},
   "outputs": [],
   "source": [
    "import os\n",
    "os.environ[\"OPENAI_API_KEY\"] = \"\"\n",
    "# to obtain a free API key, create an account at https://openai.com/ "
   ]
  },
  {
   "cell_type": "code",
   "execution_count": null,
   "id": "502eb740",
   "metadata": {},
   "outputs": [],
   "source": [
    "# if cpu is used, it MUST be set in the configuration of detectron2\n",
    "from detectron2.config import get_cfg\n",
    "cfg = get_cfg()    \n",
    "cfg.MODEL.DEVICE = 'cpu' # GPU is recommended"
   ]
  },
  {
   "cell_type": "code",
   "execution_count": null,
   "id": "f32eea43",
   "metadata": {},
   "outputs": [],
   "source": [
    "# make and populate folder with pdf files to search on\n",
    "!mkdir input_pdfs\n",
    "!ls input_pdfs/"
   ]
  },
  {
   "cell_type": "code",
   "execution_count": null,
   "id": "8e0ab329",
   "metadata": {},
   "outputs": [],
   "source": [
    "text_folder = 'input_pdfs'\n",
    "loaders = [UnstructuredPDFLoader(os.path.join(text_folder, fn)) for fn in os.listdir(text_folder)]"
   ]
  },
  {
   "cell_type": "code",
   "execution_count": null,
   "id": "2af50f98",
   "metadata": {},
   "outputs": [],
   "source": [
    "# time consuming step\n",
    "documents = [loaders[i].load() for i in range(len(loaders))]"
   ]
  },
  {
   "cell_type": "code",
   "execution_count": null,
   "id": "a3448090",
   "metadata": {},
   "outputs": [],
   "source": [
    "documents = list(itertools.chain.from_iterable(documents))"
   ]
  },
  {
   "cell_type": "code",
   "execution_count": null,
   "id": "efb6d8d5",
   "metadata": {},
   "outputs": [],
   "source": [
    "text_splitter = CharacterTextSplitter(chunk_size=1000, chunk_overlap=0)\n",
    "docs = text_splitter.split_documents(documents)"
   ]
  },
  {
   "cell_type": "code",
   "execution_count": null,
   "id": "7ba464f7",
   "metadata": {},
   "outputs": [],
   "source": [
    "# look at content of a document\n",
    "docs[0]"
   ]
  },
  {
   "cell_type": "code",
   "execution_count": null,
   "id": "8c772679",
   "metadata": {},
   "outputs": [],
   "source": [
    "embeddings = OpenAIEmbeddings()"
   ]
  },
  {
   "cell_type": "code",
   "execution_count": null,
   "id": "70abe727",
   "metadata": {},
   "outputs": [],
   "source": [
    "# build the vector store\n",
    "# the persist_directory is optional; it is used for persisting the vector_store locally for later re-use\n",
    "vector_store = Chroma.from_documents(docs, embeddings, persist_directory='chroma_db_folder')"
   ]
  },
  {
   "cell_type": "code",
   "execution_count": null,
   "id": "184d17c1",
   "metadata": {},
   "outputs": [],
   "source": [
    "chain = VectorDBQAWithSourcesChain.from_chain_type(OpenAI(temperature=0), chain_type=\"stuff\", vectorstore=vector_store)"
   ]
  },
  {
   "cell_type": "code",
   "execution_count": null,
   "id": "aa40adf7",
   "metadata": {},
   "outputs": [],
   "source": [
    "chain({\"question\": \"What are recent developments in the field of photovoltaics\"}, return_only_outputs=True)"
   ]
  },
  {
   "cell_type": "code",
   "execution_count": null,
   "id": "c5ba3766",
   "metadata": {},
   "outputs": [],
   "source": [
    "chain({\"question\": \"How are indoor photovoltaic applications characterized?\"}, return_only_outputs=True)"
   ]
  },
  {
   "cell_type": "code",
   "execution_count": null,
   "id": "c8f0f342",
   "metadata": {},
   "outputs": [],
   "source": [
    "chain({\"question\": \"Tell me more about indoor photovoltaic applications\"}, return_only_outputs=True)"
   ]
  },
  {
   "cell_type": "code",
   "execution_count": null,
   "id": "ca469cac",
   "metadata": {},
   "outputs": [],
   "source": [
    "chain({\"question\": \"Tell me about perovskite solar cell devices\"}, return_only_outputs=True)"
   ]
  },
  {
   "cell_type": "code",
   "execution_count": null,
   "id": "03a59992",
   "metadata": {},
   "outputs": [],
   "source": [
    "chain({\"question\": \"Who is the Prime Minister of India?\"}, return_only_outputs=True)"
   ]
  },
  {
   "cell_type": "code",
   "execution_count": null,
   "id": "8c5d39a1",
   "metadata": {},
   "outputs": [],
   "source": [
    "chain({\"question\": \"Who is the President of the United States of America\"}, return_only_outputs=True)"
   ]
  }
 ],
 "metadata": {
  "@webio": {
   "lastCommId": null,
   "lastKernelId": null
  },
  "kernelspec": {
   "display_name": "python-3.10.8",
   "language": "python",
   "name": "python-3.10.8"
  },
  "language_info": {
   "codemirror_mode": {
    "name": "ipython",
    "version": 3
   },
   "file_extension": ".py",
   "mimetype": "text/x-python",
   "name": "python",
   "nbconvert_exporter": "python",
   "pygments_lexer": "ipython3",
   "version": "3.10.8"
  }
 },
 "nbformat": 4,
 "nbformat_minor": 5
}
