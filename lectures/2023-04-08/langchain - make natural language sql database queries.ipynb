{
 "cells": [
  {
   "cell_type": "code",
   "execution_count": 1,
   "id": "b0e159d7",
   "metadata": {},
   "outputs": [],
   "source": [
    "_ = !pip install pandas\n",
    "_ = !pip install langchain"
   ]
  },
  {
   "cell_type": "code",
   "execution_count": 2,
   "id": "a902f6bf",
   "metadata": {},
   "outputs": [],
   "source": [
    "import os\n",
    "import sqlite3\n",
    "import pandas as pd\n",
    "from langchain import OpenAI, SQLDatabase, SQLDatabaseChain"
   ]
  },
  {
   "cell_type": "markdown",
   "id": "f2976cd3",
   "metadata": {},
   "source": [
    "### Create and populate local database"
   ]
  },
  {
   "cell_type": "code",
   "execution_count": 3,
   "id": "1abb8787",
   "metadata": {},
   "outputs": [
    {
     "name": "stdout",
     "output_type": "stream",
     "text": [
      "  % Total    % Received % Xferd  Average Speed   Time    Time     Time  Current\n",
      "                                 Dload  Upload   Total   Spent    Left  Speed\n",
      "100  1700  100  1700    0     0  17708      0 --:--:-- --:--:-- --:--:-- 17708\n"
     ]
    }
   ],
   "source": [
    "# source: https://gist.githubusercontent.com/seankross\n",
    "data_path = 'data/mtcars.csv'\n",
    "!curl 'https://gist.githubusercontent.com/seankross/a412dfbd88b3db70b74b/raw/5f23f993cd87c283ce766e7ac6b329ee7cc2e1d1/mtcars.csv' >> data/mtcars.csv"
   ]
  },
  {
   "cell_type": "code",
   "execution_count": 4,
   "id": "66f31ffc",
   "metadata": {},
   "outputs": [
    {
     "data": {
      "text/html": [
       "<div>\n",
       "<style scoped>\n",
       "    .dataframe tbody tr th:only-of-type {\n",
       "        vertical-align: middle;\n",
       "    }\n",
       "\n",
       "    .dataframe tbody tr th {\n",
       "        vertical-align: top;\n",
       "    }\n",
       "\n",
       "    .dataframe thead th {\n",
       "        text-align: right;\n",
       "    }\n",
       "</style>\n",
       "<table border=\"1\" class=\"dataframe\">\n",
       "  <thead>\n",
       "    <tr style=\"text-align: right;\">\n",
       "      <th></th>\n",
       "      <th>model</th>\n",
       "      <th>mpg</th>\n",
       "      <th>cyl</th>\n",
       "      <th>disp</th>\n",
       "      <th>hp</th>\n",
       "      <th>drat</th>\n",
       "      <th>wt</th>\n",
       "      <th>qsec</th>\n",
       "      <th>vs</th>\n",
       "      <th>am</th>\n",
       "      <th>gear</th>\n",
       "      <th>carb</th>\n",
       "    </tr>\n",
       "  </thead>\n",
       "  <tbody>\n",
       "    <tr>\n",
       "      <th>0</th>\n",
       "      <td>Mazda RX4</td>\n",
       "      <td>21</td>\n",
       "      <td>6</td>\n",
       "      <td>160</td>\n",
       "      <td>110</td>\n",
       "      <td>3.9</td>\n",
       "      <td>2.62</td>\n",
       "      <td>16.46</td>\n",
       "      <td>0</td>\n",
       "      <td>1</td>\n",
       "      <td>4</td>\n",
       "      <td>4</td>\n",
       "    </tr>\n",
       "    <tr>\n",
       "      <th>1</th>\n",
       "      <td>Mazda RX4 Wag</td>\n",
       "      <td>21</td>\n",
       "      <td>6</td>\n",
       "      <td>160</td>\n",
       "      <td>110</td>\n",
       "      <td>3.9</td>\n",
       "      <td>2.875</td>\n",
       "      <td>17.02</td>\n",
       "      <td>0</td>\n",
       "      <td>1</td>\n",
       "      <td>4</td>\n",
       "      <td>4</td>\n",
       "    </tr>\n",
       "    <tr>\n",
       "      <th>2</th>\n",
       "      <td>Datsun 710</td>\n",
       "      <td>22.8</td>\n",
       "      <td>4</td>\n",
       "      <td>108</td>\n",
       "      <td>93</td>\n",
       "      <td>3.85</td>\n",
       "      <td>2.32</td>\n",
       "      <td>18.61</td>\n",
       "      <td>1</td>\n",
       "      <td>1</td>\n",
       "      <td>4</td>\n",
       "      <td>1</td>\n",
       "    </tr>\n",
       "    <tr>\n",
       "      <th>3</th>\n",
       "      <td>Hornet 4 Drive</td>\n",
       "      <td>21.4</td>\n",
       "      <td>6</td>\n",
       "      <td>258</td>\n",
       "      <td>110</td>\n",
       "      <td>3.08</td>\n",
       "      <td>3.215</td>\n",
       "      <td>19.44</td>\n",
       "      <td>1</td>\n",
       "      <td>0</td>\n",
       "      <td>3</td>\n",
       "      <td>1</td>\n",
       "    </tr>\n",
       "    <tr>\n",
       "      <th>4</th>\n",
       "      <td>Hornet Sportabout</td>\n",
       "      <td>18.7</td>\n",
       "      <td>8</td>\n",
       "      <td>360</td>\n",
       "      <td>175</td>\n",
       "      <td>3.15</td>\n",
       "      <td>3.44</td>\n",
       "      <td>17.02</td>\n",
       "      <td>0</td>\n",
       "      <td>0</td>\n",
       "      <td>3</td>\n",
       "      <td>2</td>\n",
       "    </tr>\n",
       "    <tr>\n",
       "      <th>5</th>\n",
       "      <td>Valiant</td>\n",
       "      <td>18.1</td>\n",
       "      <td>6</td>\n",
       "      <td>225</td>\n",
       "      <td>105</td>\n",
       "      <td>2.76</td>\n",
       "      <td>3.46</td>\n",
       "      <td>20.22</td>\n",
       "      <td>1</td>\n",
       "      <td>0</td>\n",
       "      <td>3</td>\n",
       "      <td>1</td>\n",
       "    </tr>\n",
       "    <tr>\n",
       "      <th>6</th>\n",
       "      <td>Duster 360</td>\n",
       "      <td>14.3</td>\n",
       "      <td>8</td>\n",
       "      <td>360</td>\n",
       "      <td>245</td>\n",
       "      <td>3.21</td>\n",
       "      <td>3.57</td>\n",
       "      <td>15.84</td>\n",
       "      <td>0</td>\n",
       "      <td>0</td>\n",
       "      <td>3</td>\n",
       "      <td>4</td>\n",
       "    </tr>\n",
       "    <tr>\n",
       "      <th>7</th>\n",
       "      <td>Merc 240D</td>\n",
       "      <td>24.4</td>\n",
       "      <td>4</td>\n",
       "      <td>146.7</td>\n",
       "      <td>62</td>\n",
       "      <td>3.69</td>\n",
       "      <td>3.19</td>\n",
       "      <td>20</td>\n",
       "      <td>1</td>\n",
       "      <td>0</td>\n",
       "      <td>4</td>\n",
       "      <td>2</td>\n",
       "    </tr>\n",
       "    <tr>\n",
       "      <th>8</th>\n",
       "      <td>Merc 230</td>\n",
       "      <td>22.8</td>\n",
       "      <td>4</td>\n",
       "      <td>140.8</td>\n",
       "      <td>95</td>\n",
       "      <td>3.92</td>\n",
       "      <td>3.15</td>\n",
       "      <td>22.9</td>\n",
       "      <td>1</td>\n",
       "      <td>0</td>\n",
       "      <td>4</td>\n",
       "      <td>2</td>\n",
       "    </tr>\n",
       "    <tr>\n",
       "      <th>9</th>\n",
       "      <td>Merc 280</td>\n",
       "      <td>19.2</td>\n",
       "      <td>6</td>\n",
       "      <td>167.6</td>\n",
       "      <td>123</td>\n",
       "      <td>3.92</td>\n",
       "      <td>3.44</td>\n",
       "      <td>18.3</td>\n",
       "      <td>1</td>\n",
       "      <td>0</td>\n",
       "      <td>4</td>\n",
       "      <td>4</td>\n",
       "    </tr>\n",
       "    <tr>\n",
       "      <th>10</th>\n",
       "      <td>Merc 280C</td>\n",
       "      <td>17.8</td>\n",
       "      <td>6</td>\n",
       "      <td>167.6</td>\n",
       "      <td>123</td>\n",
       "      <td>3.92</td>\n",
       "      <td>3.44</td>\n",
       "      <td>18.9</td>\n",
       "      <td>1</td>\n",
       "      <td>0</td>\n",
       "      <td>4</td>\n",
       "      <td>4</td>\n",
       "    </tr>\n",
       "    <tr>\n",
       "      <th>11</th>\n",
       "      <td>Merc 450SE</td>\n",
       "      <td>16.4</td>\n",
       "      <td>8</td>\n",
       "      <td>275.8</td>\n",
       "      <td>180</td>\n",
       "      <td>3.07</td>\n",
       "      <td>4.07</td>\n",
       "      <td>17.4</td>\n",
       "      <td>0</td>\n",
       "      <td>0</td>\n",
       "      <td>3</td>\n",
       "      <td>3</td>\n",
       "    </tr>\n",
       "    <tr>\n",
       "      <th>12</th>\n",
       "      <td>Merc 450SL</td>\n",
       "      <td>17.3</td>\n",
       "      <td>8</td>\n",
       "      <td>275.8</td>\n",
       "      <td>180</td>\n",
       "      <td>3.07</td>\n",
       "      <td>3.73</td>\n",
       "      <td>17.6</td>\n",
       "      <td>0</td>\n",
       "      <td>0</td>\n",
       "      <td>3</td>\n",
       "      <td>3</td>\n",
       "    </tr>\n",
       "    <tr>\n",
       "      <th>13</th>\n",
       "      <td>Merc 450SLC</td>\n",
       "      <td>15.2</td>\n",
       "      <td>8</td>\n",
       "      <td>275.8</td>\n",
       "      <td>180</td>\n",
       "      <td>3.07</td>\n",
       "      <td>3.78</td>\n",
       "      <td>18</td>\n",
       "      <td>0</td>\n",
       "      <td>0</td>\n",
       "      <td>3</td>\n",
       "      <td>3</td>\n",
       "    </tr>\n",
       "    <tr>\n",
       "      <th>14</th>\n",
       "      <td>Cadillac Fleetwood</td>\n",
       "      <td>10.4</td>\n",
       "      <td>8</td>\n",
       "      <td>472</td>\n",
       "      <td>205</td>\n",
       "      <td>2.93</td>\n",
       "      <td>5.25</td>\n",
       "      <td>17.98</td>\n",
       "      <td>0</td>\n",
       "      <td>0</td>\n",
       "      <td>3</td>\n",
       "      <td>4</td>\n",
       "    </tr>\n",
       "  </tbody>\n",
       "</table>\n",
       "</div>"
      ],
      "text/plain": [
       "                 model   mpg cyl   disp   hp  drat     wt   qsec vs am gear  \\\n",
       "0            Mazda RX4    21   6    160  110   3.9   2.62  16.46  0  1    4   \n",
       "1        Mazda RX4 Wag    21   6    160  110   3.9  2.875  17.02  0  1    4   \n",
       "2           Datsun 710  22.8   4    108   93  3.85   2.32  18.61  1  1    4   \n",
       "3       Hornet 4 Drive  21.4   6    258  110  3.08  3.215  19.44  1  0    3   \n",
       "4    Hornet Sportabout  18.7   8    360  175  3.15   3.44  17.02  0  0    3   \n",
       "5              Valiant  18.1   6    225  105  2.76   3.46  20.22  1  0    3   \n",
       "6           Duster 360  14.3   8    360  245  3.21   3.57  15.84  0  0    3   \n",
       "7            Merc 240D  24.4   4  146.7   62  3.69   3.19     20  1  0    4   \n",
       "8             Merc 230  22.8   4  140.8   95  3.92   3.15   22.9  1  0    4   \n",
       "9             Merc 280  19.2   6  167.6  123  3.92   3.44   18.3  1  0    4   \n",
       "10           Merc 280C  17.8   6  167.6  123  3.92   3.44   18.9  1  0    4   \n",
       "11          Merc 450SE  16.4   8  275.8  180  3.07   4.07   17.4  0  0    3   \n",
       "12          Merc 450SL  17.3   8  275.8  180  3.07   3.73   17.6  0  0    3   \n",
       "13         Merc 450SLC  15.2   8  275.8  180  3.07   3.78     18  0  0    3   \n",
       "14  Cadillac Fleetwood  10.4   8    472  205  2.93   5.25  17.98  0  0    3   \n",
       "\n",
       "   carb  \n",
       "0     4  \n",
       "1     4  \n",
       "2     1  \n",
       "3     1  \n",
       "4     2  \n",
       "5     1  \n",
       "6     4  \n",
       "7     2  \n",
       "8     2  \n",
       "9     4  \n",
       "10    4  \n",
       "11    3  \n",
       "12    3  \n",
       "13    3  \n",
       "14    4  "
      ]
     },
     "execution_count": 4,
     "metadata": {},
     "output_type": "execute_result"
    }
   ],
   "source": [
    "df = pd.read_csv(data_path, header=0)\n",
    "df.head(15)"
   ]
  },
  {
   "cell_type": "code",
   "execution_count": 5,
   "id": "0323564d",
   "metadata": {},
   "outputs": [
    {
     "data": {
      "text/html": [
       "<div>\n",
       "<style scoped>\n",
       "    .dataframe tbody tr th:only-of-type {\n",
       "        vertical-align: middle;\n",
       "    }\n",
       "\n",
       "    .dataframe tbody tr th {\n",
       "        vertical-align: top;\n",
       "    }\n",
       "\n",
       "    .dataframe thead th {\n",
       "        text-align: right;\n",
       "    }\n",
       "</style>\n",
       "<table border=\"1\" class=\"dataframe\">\n",
       "  <thead>\n",
       "    <tr style=\"text-align: right;\">\n",
       "      <th></th>\n",
       "      <th>model</th>\n",
       "      <th>mpg</th>\n",
       "      <th>cyl</th>\n",
       "    </tr>\n",
       "  </thead>\n",
       "  <tbody>\n",
       "    <tr>\n",
       "      <th>0</th>\n",
       "      <td>Mazda RX4</td>\n",
       "      <td>21</td>\n",
       "      <td>6</td>\n",
       "    </tr>\n",
       "    <tr>\n",
       "      <th>1</th>\n",
       "      <td>Mazda RX4 Wag</td>\n",
       "      <td>21</td>\n",
       "      <td>6</td>\n",
       "    </tr>\n",
       "    <tr>\n",
       "      <th>2</th>\n",
       "      <td>Datsun 710</td>\n",
       "      <td>22.8</td>\n",
       "      <td>4</td>\n",
       "    </tr>\n",
       "    <tr>\n",
       "      <th>3</th>\n",
       "      <td>Hornet 4 Drive</td>\n",
       "      <td>21.4</td>\n",
       "      <td>6</td>\n",
       "    </tr>\n",
       "    <tr>\n",
       "      <th>4</th>\n",
       "      <td>Hornet Sportabout</td>\n",
       "      <td>18.7</td>\n",
       "      <td>8</td>\n",
       "    </tr>\n",
       "    <tr>\n",
       "      <th>5</th>\n",
       "      <td>Valiant</td>\n",
       "      <td>18.1</td>\n",
       "      <td>6</td>\n",
       "    </tr>\n",
       "    <tr>\n",
       "      <th>6</th>\n",
       "      <td>Duster 360</td>\n",
       "      <td>14.3</td>\n",
       "      <td>8</td>\n",
       "    </tr>\n",
       "    <tr>\n",
       "      <th>7</th>\n",
       "      <td>Merc 240D</td>\n",
       "      <td>24.4</td>\n",
       "      <td>4</td>\n",
       "    </tr>\n",
       "    <tr>\n",
       "      <th>8</th>\n",
       "      <td>Merc 230</td>\n",
       "      <td>22.8</td>\n",
       "      <td>4</td>\n",
       "    </tr>\n",
       "    <tr>\n",
       "      <th>9</th>\n",
       "      <td>Merc 280</td>\n",
       "      <td>19.2</td>\n",
       "      <td>6</td>\n",
       "    </tr>\n",
       "  </tbody>\n",
       "</table>\n",
       "</div>"
      ],
      "text/plain": [
       "               model   mpg cyl\n",
       "0          Mazda RX4    21   6\n",
       "1      Mazda RX4 Wag    21   6\n",
       "2         Datsun 710  22.8   4\n",
       "3     Hornet 4 Drive  21.4   6\n",
       "4  Hornet Sportabout  18.7   8\n",
       "5            Valiant  18.1   6\n",
       "6         Duster 360  14.3   8\n",
       "7          Merc 240D  24.4   4\n",
       "8           Merc 230  22.8   4\n",
       "9           Merc 280  19.2   6"
      ]
     },
     "execution_count": 5,
     "metadata": {},
     "output_type": "execute_result"
    }
   ],
   "source": [
    "df_sub = df[['model', 'mpg', 'cyl']]\n",
    "df_sub.head(10)"
   ]
  },
  {
   "cell_type": "code",
   "execution_count": 6,
   "id": "d543e673",
   "metadata": {},
   "outputs": [],
   "source": [
    "conn = sqlite3.connect('cars.sqlite')\n",
    "cur = conn.cursor()\n",
    "\n",
    "table_name = 'cars'\n",
    "query = f\"\"\"CREATE TABLE IF NOT EXISTS {table_name} (model TEXT, mpg REAL, cyl INTEGER)\"\"\"\n",
    "cur.execute(query)\n",
    "conn.commit()\n",
    "\n",
    "df_sub.to_sql(table_name, conn, if_exists='replace', index=False)\n",
    "conn.commit()\n",
    "\n",
    "# somehow the header ends up as a database record. Remove them\n",
    "cur.execute(f\"\"\"DELETE FROM {table_name} WHERE model='model';\"\"\")\n",
    "conn.commit()\n",
    "conn.close()"
   ]
  },
  {
   "cell_type": "code",
   "execution_count": 7,
   "id": "d47e3089",
   "metadata": {},
   "outputs": [
    {
     "name": "stdout",
     "output_type": "stream",
     "text": [
      "cars.sqlite\r\n"
     ]
    }
   ],
   "source": [
    "!ls | grep cars.sqlite"
   ]
  },
  {
   "cell_type": "code",
   "execution_count": 8,
   "id": "01c6979e",
   "metadata": {},
   "outputs": [],
   "source": [
    "def read_query(sql):\n",
    "    conn = sqlite3.connect('cars.sqlite')\n",
    "    cur = conn.cursor()\n",
    "    cur.execute(sql)\n",
    "    rows = cur.fetchall()\n",
    "    for row in rows:\n",
    "        print(row)\n",
    "    conn.close()"
   ]
  },
  {
   "cell_type": "code",
   "execution_count": 9,
   "id": "1c1d26ba",
   "metadata": {},
   "outputs": [
    {
     "name": "stdout",
     "output_type": "stream",
     "text": [
      "('Mazda RX4', '21', '6')\n",
      "('Mazda RX4 Wag', '21', '6')\n",
      "('Datsun 710', '22.8', '4')\n",
      "('Hornet 4 Drive', '21.4', '6')\n",
      "('Hornet Sportabout', '18.7', '8')\n",
      "('Valiant', '18.1', '6')\n",
      "('Duster 360', '14.3', '8')\n",
      "('Merc 240D', '24.4', '4')\n",
      "('Merc 230', '22.8', '4')\n",
      "('Merc 280', '19.2', '6')\n"
     ]
    }
   ],
   "source": [
    "read_query('SELECT * FROM cars LIMIT 10;')"
   ]
  },
  {
   "cell_type": "markdown",
   "id": "77fe5923",
   "metadata": {},
   "source": [
    "### Connect to OpenAI via LangChain"
   ]
  },
  {
   "cell_type": "code",
   "execution_count": 10,
   "id": "69ec65ce",
   "metadata": {},
   "outputs": [],
   "source": [
    "db = SQLDatabase.from_uri('sqlite:///cars.sqlite')"
   ]
  },
  {
   "cell_type": "code",
   "execution_count": 11,
   "id": "99b60c25",
   "metadata": {},
   "outputs": [],
   "source": [
    "os.environ['OPENAI_API_KEY'] = 'your API key here'\n",
    "llm = OpenAI(temperature=0)\n",
    "# to obtain an API key, create an account at https://openai.com/ \n",
    "# NOTE: if you create a paid account, charges will apply. Refer to pricing page on the website for details."
   ]
  },
  {
   "cell_type": "code",
   "execution_count": 12,
   "id": "8a113d9e",
   "metadata": {},
   "outputs": [],
   "source": [
    "db_chain = SQLDatabaseChain(llm=llm, database=db, verbose=True)"
   ]
  },
  {
   "cell_type": "code",
   "execution_count": 13,
   "id": "74bdd0ae",
   "metadata": {},
   "outputs": [
    {
     "name": "stdout",
     "output_type": "stream",
     "text": [
      "\n",
      "\n",
      "\u001b[1m> Entering new SQLDatabaseChain chain...\u001b[0m\n",
      "Which model has the highest mpg? \n",
      "SQLQuery:\u001b[32;1m\u001b[1;3m SELECT model, mpg FROM cars ORDER BY mpg DESC LIMIT 1;\u001b[0m\n",
      "SQLResult: \u001b[33;1m\u001b[1;3m[('Toyota Corolla', '33.9')]\u001b[0m\n",
      "Answer:\u001b[32;1m\u001b[1;3m The model with the highest mpg is Toyota Corolla with 33.9 mpg.\u001b[0m\n",
      "\u001b[1m> Finished chain.\u001b[0m\n"
     ]
    },
    {
     "data": {
      "text/plain": [
       "' The model with the highest mpg is Toyota Corolla with 33.9 mpg.'"
      ]
     },
     "execution_count": 13,
     "metadata": {},
     "output_type": "execute_result"
    }
   ],
   "source": [
    "db_chain.run('Which model has the highest mpg?')"
   ]
  },
  {
   "cell_type": "code",
   "execution_count": 14,
   "id": "b4e5d8e8",
   "metadata": {},
   "outputs": [
    {
     "name": "stdout",
     "output_type": "stream",
     "text": [
      "('Toyota Corolla', '33.9')\n"
     ]
    }
   ],
   "source": [
    "read_query('SELECT model, mpg FROM cars ORDER BY mpg DESC LIMIT 1;')"
   ]
  },
  {
   "cell_type": "code",
   "execution_count": 15,
   "id": "8fd82e33",
   "metadata": {},
   "outputs": [
    {
     "name": "stdout",
     "output_type": "stream",
     "text": [
      "\n",
      "\n",
      "\u001b[1m> Entering new SQLDatabaseChain chain...\u001b[0m\n",
      "What is the maximum mpg by number of cyl? \n",
      "SQLQuery:\u001b[32;1m\u001b[1;3m SELECT cyl, MAX(mpg) FROM cars GROUP BY cyl;\u001b[0m\n",
      "SQLResult: \u001b[33;1m\u001b[1;3m[('4', '33.9'), ('6', '21.4'), ('8', '19.2')]\u001b[0m\n",
      "Answer:\u001b[32;1m\u001b[1;3m The maximum mpg by number of cyl is 33.9 for 4 cyl, 21.4 for 6 cyl, and 19.2 for 8 cyl.\u001b[0m\n",
      "\u001b[1m> Finished chain.\u001b[0m\n"
     ]
    },
    {
     "data": {
      "text/plain": [
       "' The maximum mpg by number of cyl is 33.9 for 4 cyl, 21.4 for 6 cyl, and 19.2 for 8 cyl.'"
      ]
     },
     "execution_count": 15,
     "metadata": {},
     "output_type": "execute_result"
    }
   ],
   "source": [
    "db_chain.run('What is the maximum mpg by number of cyl?')"
   ]
  },
  {
   "cell_type": "code",
   "execution_count": 16,
   "id": "90cc926e",
   "metadata": {},
   "outputs": [
    {
     "name": "stdout",
     "output_type": "stream",
     "text": [
      "('4', '33.9')\n",
      "('6', '21.4')\n",
      "('8', '19.2')\n"
     ]
    }
   ],
   "source": [
    "read_query('SELECT cyl, MAX(mpg) FROM cars GROUP BY cyl;')"
   ]
  },
  {
   "cell_type": "code",
   "execution_count": 17,
   "id": "a5bd03f0",
   "metadata": {},
   "outputs": [
    {
     "name": "stdout",
     "output_type": "stream",
     "text": [
      "\n",
      "\n",
      "\u001b[1m> Entering new SQLDatabaseChain chain...\u001b[0m\n",
      "What is the most efficient car that has 6 cylinders? \n",
      "SQLQuery:\u001b[32;1m\u001b[1;3m SELECT model, mpg FROM cars WHERE cyl = 6 ORDER BY mpg DESC LIMIT 5;\u001b[0m\n",
      "SQLResult: \u001b[33;1m\u001b[1;3m[('Hornet 4 Drive', '21.4'), ('Hornet 4 Drive', '21.4'), ('Hornet 4 Drive', '21.4'), ('Hornet 4 Drive', '21.4'), ('Hornet 4 Drive', '21.4')]\u001b[0m\n",
      "Answer:\u001b[32;1m\u001b[1;3m The most efficient car with 6 cylinders is the Hornet 4 Drive with an mpg of 21.4.\u001b[0m\n",
      "\u001b[1m> Finished chain.\u001b[0m\n"
     ]
    },
    {
     "data": {
      "text/plain": [
       "' The most efficient car with 6 cylinders is the Hornet 4 Drive with an mpg of 21.4.'"
      ]
     },
     "execution_count": 17,
     "metadata": {},
     "output_type": "execute_result"
    }
   ],
   "source": [
    "db_chain.run('What is the most efficient car that has 6 cylinders?')"
   ]
  },
  {
   "cell_type": "code",
   "execution_count": 20,
   "id": "74b1442b",
   "metadata": {},
   "outputs": [
    {
     "name": "stdout",
     "output_type": "stream",
     "text": [
      "('Hornet 4 Drive', '21.4')\n",
      "('Mazda RX4', '21')\n",
      "('Mazda RX4 Wag', '21')\n",
      "('Ferrari Dino', '19.7')\n",
      "('Merc 280', '19.2')\n",
      "('Valiant', '18.1')\n",
      "('Merc 280C', '17.8')\n"
     ]
    }
   ],
   "source": [
    "read_query('SELECT DISTINCT model, mpg FROM cars WHERE cyl = 6 ORDER BY mpg DESC LIMIT 50;')"
   ]
  },
  {
   "cell_type": "markdown",
   "id": "61b18e17",
   "metadata": {},
   "source": [
    "### Disclaimer:\n",
    "Note: OpenAI provides a free API key for initial testing. Once you move to a paid subscription, calling the API in the way demonstrated in this example will incur monetary charges. Refer to OpenAI's pricing information for details.\n",
    "\n",
    "Be aware that information, such as files and databases to train OpenAI's LLM can become public if applied in the way this demo demonstrates. Refer to OpenAI's usage policy for details.\n",
    "\n",
    "This demo is for educational purposes only and for demonstrating machine learning methods. The author makes no claims that the outcomes shown here or any outcomes that could be produced by this method are accurate or reliable."
   ]
  },
  {
   "cell_type": "code",
   "execution_count": null,
   "id": "9cdb98b6",
   "metadata": {},
   "outputs": [],
   "source": []
  }
 ],
 "metadata": {
  "@webio": {
   "lastCommId": null,
   "lastKernelId": null
  },
  "kernelspec": {
   "display_name": "python-3.10.8",
   "language": "python",
   "name": "python-3.10.8"
  },
  "language_info": {
   "codemirror_mode": {
    "name": "ipython",
    "version": 3
   },
   "file_extension": ".py",
   "mimetype": "text/x-python",
   "name": "python",
   "nbconvert_exporter": "python",
   "pygments_lexer": "ipython3",
   "version": "3.10.8"
  }
 },
 "nbformat": 4,
 "nbformat_minor": 5
}
