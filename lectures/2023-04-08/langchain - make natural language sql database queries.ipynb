{
 "cells": [
  {
   "cell_type": "code",
   "execution_count": null,
   "id": "b0e159d7",
   "metadata": {},
   "outputs": [],
   "source": [
    "_ = !pip install pandas\n",
    "_ = !pip install langchain"
   ]
  },
  {
   "cell_type": "code",
   "execution_count": null,
   "id": "a902f6bf",
   "metadata": {},
   "outputs": [],
   "source": [
    "import os\n",
    "import sqlite3\n",
    "import pandas as pd\n",
    "from langchain import OpenAI, SQLDatabase, SQLDatabaseChain"
   ]
  },
  {
   "cell_type": "markdown",
   "id": "f2976cd3",
   "metadata": {},
   "source": [
    "### Create and populate local database"
   ]
  },
  {
   "cell_type": "code",
   "execution_count": null,
   "id": "1abb8787",
   "metadata": {},
   "outputs": [],
   "source": [
    "# source: https://gist.githubusercontent.com/seankross\n",
    "data_path = 'data/mtcars.csv'\n",
    "!curl 'https://gist.githubusercontent.com/seankross/a412dfbd88b3db70b74b/raw/5f23f993cd87c283ce766e7ac6b329ee7cc2e1d1/mtcars.csv' >> data/mtcars.csv"
   ]
  },
  {
   "cell_type": "code",
   "execution_count": null,
   "id": "66f31ffc",
   "metadata": {},
   "outputs": [],
   "source": [
    "df = pd.read_csv(data_path, header=0)\n",
    "df.head(15)"
   ]
  },
  {
   "cell_type": "code",
   "execution_count": null,
   "id": "0323564d",
   "metadata": {},
   "outputs": [],
   "source": [
    "df_sub = df[['model', 'mpg', 'cyl']]\n",
    "df_sub.head(10)"
   ]
  },
  {
   "cell_type": "code",
   "execution_count": null,
   "id": "d543e673",
   "metadata": {},
   "outputs": [],
   "source": [
    "conn = sqlite3.connect('cars.sqlite')\n",
    "cur = conn.cursor()\n",
    "\n",
    "table_name = 'cars'\n",
    "query = f\"\"\"CREATE TABLE IF NOT EXISTS {table_name} (model TEXT, mpg REAL, cyl INTEGER)\"\"\"\n",
    "cur.execute(query)\n",
    "conn.commit()\n",
    "\n",
    "df_sub.to_sql(table_name, conn, if_exists='replace', index=False)\n",
    "conn.commit()\n",
    "\n",
    "# somehow the header ends up as a database record. Remove them\n",
    "cur.execute(f\"\"\"DELETE FROM {table_name} WHERE model='model';\"\"\")\n",
    "conn.commit()\n",
    "conn.close()"
   ]
  },
  {
   "cell_type": "code",
   "execution_count": null,
   "id": "d47e3089",
   "metadata": {},
   "outputs": [],
   "source": [
    "!ls | grep cars.sqlite"
   ]
  },
  {
   "cell_type": "code",
   "execution_count": null,
   "id": "01c6979e",
   "metadata": {},
   "outputs": [],
   "source": [
    "def read_query(sql):\n",
    "    conn = sqlite3.connect('cars.sqlite')\n",
    "    cur = conn.cursor()\n",
    "    cur.execute(sql)\n",
    "    rows = cur.fetchall()\n",
    "    for row in rows:\n",
    "        print(row)\n",
    "    conn.close()"
   ]
  },
  {
   "cell_type": "code",
   "execution_count": null,
   "id": "1c1d26ba",
   "metadata": {},
   "outputs": [],
   "source": [
    "read_query('SELECT * FROM cars LIMIT 10;')"
   ]
  },
  {
   "cell_type": "markdown",
   "id": "77fe5923",
   "metadata": {},
   "source": [
    "### Connect to OpenAI via LangChain"
   ]
  },
  {
   "cell_type": "code",
   "execution_count": null,
   "id": "69ec65ce",
   "metadata": {},
   "outputs": [],
   "source": [
    "db = SQLDatabase.from_uri('sqlite:///cars.sqlite')"
   ]
  },
  {
   "cell_type": "code",
   "execution_count": null,
   "id": "99b60c25",
   "metadata": {},
   "outputs": [],
   "source": [
    "os.environ['OPENAI_API_KEY'] = 'your API key here'\n",
    "llm = OpenAI(temperature=0)\n",
    "# to obtain an API key, create an account at https://openai.com/ \n",
    "# NOTE: if you create a paid account, charges will apply. Refer to pricing page on the website for details."
   ]
  },
  {
   "cell_type": "code",
   "execution_count": null,
   "id": "8a113d9e",
   "metadata": {},
   "outputs": [],
   "source": [
    "db_chain = SQLDatabaseChain(llm=llm, database=db, verbose=True)"
   ]
  },
  {
   "cell_type": "code",
   "execution_count": null,
   "id": "74bdd0ae",
   "metadata": {},
   "outputs": [],
   "source": [
    "db_chain.run('Which model has the highest mpg?')"
   ]
  },
  {
   "cell_type": "code",
   "execution_count": null,
   "id": "b4e5d8e8",
   "metadata": {},
   "outputs": [],
   "source": [
    "read_query('SELECT model, mpg FROM cars ORDER BY mpg DESC LIMIT 1;')"
   ]
  },
  {
   "cell_type": "code",
   "execution_count": null,
   "id": "8fd82e33",
   "metadata": {},
   "outputs": [],
   "source": [
    "db_chain.run('What is the maximum mpg by number of cyl?')"
   ]
  },
  {
   "cell_type": "code",
   "execution_count": null,
   "id": "90cc926e",
   "metadata": {},
   "outputs": [],
   "source": [
    "read_query('SELECT cyl, MAX(mpg) FROM cars GROUP BY cyl;')"
   ]
  },
  {
   "cell_type": "code",
   "execution_count": null,
   "id": "a5bd03f0",
   "metadata": {},
   "outputs": [],
   "source": [
    "db_chain.run('What is the most efficient car that has 6 cylinders?')"
   ]
  },
  {
   "cell_type": "code",
   "execution_count": null,
   "id": "74b1442b",
   "metadata": {},
   "outputs": [],
   "source": [
    "read_query('SELECT DISTINCT model, mpg FROM cars WHERE cyl = 6 ORDER BY mpg DESC LIMIT 50;')"
   ]
  },
  {
   "cell_type": "markdown",
   "id": "61b18e17",
   "metadata": {},
   "source": [
    "### Disclaimer:\n",
    "Note: OpenAI provides a free API key for initial testing. Once you move to a paid subscription, calling the API in the way demonstrated in this example will incur monetary charges. Refer to OpenAI's pricing information for details.\n",
    "\n",
    "Be aware that information, such as files and databases to train OpenAI's LLM can become public if applied in the way this demo demonstrates. Refer to OpenAI's usage policy for details.\n",
    "\n",
    "This demo is for educational purposes only and for demonstrating machine learning methods. The author makes no claims that the outcomes shown here or any outcomes that could be produced by this method are accurate or reliable."
   ]
  },
  {
   "cell_type": "code",
   "execution_count": null,
   "id": "9cdb98b6",
   "metadata": {},
   "outputs": [],
   "source": []
  }
 ],
 "metadata": {
  "@webio": {
   "lastCommId": null,
   "lastKernelId": null
  },
  "kernelspec": {
   "display_name": "python-3.10.8",
   "language": "python",
   "name": "python-3.10.8"
  },
  "language_info": {
   "codemirror_mode": {
    "name": "ipython",
    "version": 3
   },
   "file_extension": ".py",
   "mimetype": "text/x-python",
   "name": "python",
   "nbconvert_exporter": "python",
   "pygments_lexer": "ipython3",
   "version": "3.10.8"
  }
 },
 "nbformat": 4,
 "nbformat_minor": 5
}
