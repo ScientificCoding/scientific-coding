{
 "cells": [
  {
   "cell_type": "code",
   "execution_count": null,
   "id": "2ade025e",
   "metadata": {},
   "outputs": [],
   "source": [
    "_ = !pip install langchain\n",
    "_ = !pip install unstructured\n",
    "_ = !pip install openai\n",
    "_ = !pip install pybind11\n",
    "_ = !pip install chromadb\n",
    "_ = !pip install Cython\n",
    "_ = !pip3 install \"git+https://github.com/philferriere/cocoapi.git#egg=pycocotools&subdirectory=PythonAPI\"\n",
    "_ = !pip install unstructured[local-inference]\n",
    "_ = !CC=clang CXX=clang++ ARCHFLAGS=\"-arch x86_64\" pip install 'git+https://github.com/facebookresearch/detectron2.git'\n",
    "_ = !pip install layoutparser[layoutmodels,tesseract]\n",
    "_ = !pip install pytesseract"
   ]
  },
  {
   "cell_type": "code",
   "execution_count": 2,
   "id": "c35bc86b",
   "metadata": {},
   "outputs": [],
   "source": [
    "import os\n",
    "os.environ[\"OPENAI_API_KEY\"] = \"your OpenAI API kei\"\n",
    "# to obtain an API key, create an account at https://openai.com/ \n",
    "# NOTE: if you create a paid account, charges will apply. Refer to pricing page on the website for details."
   ]
  },
  {
   "cell_type": "code",
   "execution_count": 25,
   "id": "f8ec8541",
   "metadata": {},
   "outputs": [],
   "source": [
    "from langchain.document_loaders import UnstructuredPDFLoader\n",
    "from langchain.indexes import VectorstoreIndexCreator"
   ]
  },
  {
   "cell_type": "code",
   "execution_count": 26,
   "id": "63e6b1b4",
   "metadata": {},
   "outputs": [],
   "source": [
    "from detectron2.config import get_cfg\n",
    "cfg = get_cfg()    \n",
    "cfg.MODEL.DEVICE = 'cpu' #GPU is recommended"
   ]
  },
  {
   "cell_type": "code",
   "execution_count": 27,
   "id": "785b2541",
   "metadata": {},
   "outputs": [
    {
     "name": "stdout",
     "output_type": "stream",
     "text": [
      "i1040gi.pdf  i1040sc.pdf  i1040se.pdf  i1040sj.pdf  iw2w3.pdf\r\n",
      "i1040s8.pdf  i1040sca.pdf i1040sf.pdf  i1040sr.pdf\r\n",
      "i1040sb.pdf  i1040sd.pdf  i1040sh.pdf  i1040sse.pdf\r\n"
     ]
    }
   ],
   "source": [
    "# tax filing instruction files provided by IRS.gov. Stored locally\n",
    "!ls text/"
   ]
  },
  {
   "cell_type": "code",
   "execution_count": 28,
   "id": "d93cc510",
   "metadata": {},
   "outputs": [],
   "source": [
    "text_folder = 'text'\n",
    "loaders = [UnstructuredPDFLoader(os.path.join(text_folder, fn)) for fn in os.listdir(text_folder)]"
   ]
  },
  {
   "cell_type": "code",
   "execution_count": 29,
   "id": "1485a00c",
   "metadata": {},
   "outputs": [
    {
     "name": "stdout",
     "output_type": "stream",
     "text": [
      "Running Chroma using direct local API.\n",
      "Using DuckDB in-memory for database. Data will be transient.\n",
      "Exiting: Cleaning up .chroma directory\n"
     ]
    }
   ],
   "source": [
    "index = VectorstoreIndexCreator().from_loaders(loaders)"
   ]
  },
  {
   "cell_type": "code",
   "execution_count": 30,
   "id": "807762e5",
   "metadata": {},
   "outputs": [
    {
     "data": {
      "text/plain": [
       "' You must file a return or statement with the Internal Revenue Service for any tax you are liable for, as required by Internal Revenue Code sections 6001, 6011, and 6012(a) and their regulations.'"
      ]
     },
     "execution_count": 30,
     "metadata": {},
     "output_type": "execute_result"
    }
   ],
   "source": [
    "query = \"Why do I have to file taxes?\"\n",
    "index.query(query)"
   ]
  },
  {
   "cell_type": "code",
   "execution_count": 31,
   "id": "6997a59e",
   "metadata": {},
   "outputs": [
    {
     "data": {
      "text/plain": [
       "' You should report your income from your W-2 on line 8 of the worksheet. The income should be shown in (a) box 1 of your Form W-2, (b) box 12 of your Form W-2 with code Z, or (c) box 15 of Form 1099-MISC.'"
      ]
     },
     "execution_count": 31,
     "metadata": {},
     "output_type": "execute_result"
    }
   ],
   "source": [
    "query = \"Where do I report my income as stated on my W-2?\"\n",
    "index.query(query)"
   ]
  },
  {
   "cell_type": "code",
   "execution_count": 32,
   "id": "682c739a",
   "metadata": {},
   "outputs": [
    {
     "data": {
      "text/plain": [
       "' You can deduct expenses for farm business travel and 50% of your business meals. However, business meals are 100% deductible if the meals are food and beverages provided by a restaurant and paid or incurred after December 31, 2020, and before January 1, 2023. You can also deduct the cost of books, professional instruments, equipment, etc., if you normally use them within a year. You may be able to deduct certain expenses for business use of your home, subject to limitations. You can also deduct the amount you paid for tools that have a short life or cost a small amount.'"
      ]
     },
     "execution_count": 32,
     "metadata": {},
     "output_type": "execute_result"
    }
   ],
   "source": [
    "query = \"What kind of expenses can I deduct?\"\n",
    "index.query(query)"
   ]
  },
  {
   "cell_type": "code",
   "execution_count": 33,
   "id": "e59c234e",
   "metadata": {},
   "outputs": [
    {
     "data": {
      "text/plain": [
       "\" It depends on the amount of gain you made from the sale. If you had a gain, you may have to pay taxes on it. If you had a loss, you must report the transaction on Form 8949 even though the loss isn't deductible. For more information, see Pub. 523.\""
      ]
     },
     "execution_count": 33,
     "metadata": {},
     "output_type": "execute_result"
    }
   ],
   "source": [
    "query = \"I sold my house when I moved. Do I have to pay taxes?\"\n",
    "index.query(query)"
   ]
  },
  {
   "cell_type": "code",
   "execution_count": 34,
   "id": "00a5aa47",
   "metadata": {},
   "outputs": [
    {
     "data": {
      "text/plain": [
       "' You should fill out Form 8949 according to the instructions provided in the form. Depending on the type of transaction, you may need to enter the proceeds in column (d), the basis in column (e), and any adjustments in columns (f) and (g). You may also need to check a box at the top of Part I or Part II of the form.'"
      ]
     },
     "execution_count": 34,
     "metadata": {},
     "output_type": "execute_result"
    }
   ],
   "source": [
    "query = \"How do I fill out Form 8949?\"\n",
    "index.query(query)"
   ]
  },
  {
   "cell_type": "code",
   "execution_count": 35,
   "id": "5cba31f2",
   "metadata": {},
   "outputs": [
    {
     "data": {
      "text/plain": [
       "' You have to file taxes by April 18, 2023.'"
      ]
     },
     "execution_count": 35,
     "metadata": {},
     "output_type": "execute_result"
    }
   ],
   "source": [
    "query = \"By when do I have to file taxes?\"\n",
    "index.query(query)"
   ]
  },
  {
   "cell_type": "markdown",
   "id": "eb45f96f",
   "metadata": {},
   "source": [
    "### Disclaimer:\n",
    "\n",
    "Note: OpenAI provides a free API key for initial testing. Once you move to a paid subscription, calling the API in the way demonstrated in this example will incur monetary charges. Refer to OpenAI's pricing information for details.\n",
    "\n",
    "Be aware that information, such as files to train OpenAI's LLM can become public if applied in the way this demo demonstrates. Refer to OpenAI's usage policy for details.\n",
    "\n",
    "Do not use for actual tax filing purposes. This demo is for educational purposes only and for demonstrating machine learning methods. The author makes no claims that the outcomes shown here or any outcomes that could be produced by this method are accurate or reliable."
   ]
  },
  {
   "cell_type": "code",
   "execution_count": null,
   "id": "9572abee",
   "metadata": {},
   "outputs": [],
   "source": []
  }
 ],
 "metadata": {
  "@webio": {
   "lastCommId": null,
   "lastKernelId": null
  },
  "kernelspec": {
   "display_name": "python-3.10.8",
   "language": "python",
   "name": "python-3.10.8"
  },
  "language_info": {
   "codemirror_mode": {
    "name": "ipython",
    "version": 3
   },
   "file_extension": ".py",
   "mimetype": "text/x-python",
   "name": "python",
   "nbconvert_exporter": "python",
   "pygments_lexer": "ipython3",
   "version": "3.10.8"
  }
 },
 "nbformat": 4,
 "nbformat_minor": 5
}
