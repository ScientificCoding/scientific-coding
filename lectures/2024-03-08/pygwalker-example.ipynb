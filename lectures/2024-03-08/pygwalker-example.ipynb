{
 "cells": [
  {
   "cell_type": "markdown",
   "id": "7adec2df-bdb7-4ec9-98fa-1dcb7475f8ef",
   "metadata": {},
   "source": [
    "## Intro to pygwalker\n",
    "\n",
    "Data browsing tool\n",
    "\n",
    "github: https://github.com/Kanaries/pygwalker"
   ]
  },
  {
   "cell_type": "code",
   "execution_count": null,
   "id": "45874a07-0093-4d03-ad91-2d14ba512fb0",
   "metadata": {},
   "outputs": [],
   "source": [
    "_ = !pip install pandas\n",
    "_ = !pip install pygwalker"
   ]
  },
  {
   "cell_type": "code",
   "execution_count": null,
   "id": "ba8c546b-720e-4943-821f-31829a8245b0",
   "metadata": {},
   "outputs": [],
   "source": [
    "import pandas as pd\n",
    "import pygwalker as pyg"
   ]
  },
  {
   "cell_type": "code",
   "execution_count": null,
   "id": "89944dc1-558f-4034-aadb-0e5fc317f488",
   "metadata": {},
   "outputs": [],
   "source": [
    "df = pd.read_csv('http://raw.githubusercontent.com/owid/co2-data/master/owid-co2-data.csv')\n",
    "df"
   ]
  },
  {
   "cell_type": "code",
   "execution_count": null,
   "id": "ebcb11d5-2038-4640-a822-4b7052248c6f",
   "metadata": {},
   "outputs": [],
   "source": [
    "pyg.walk(df)"
   ]
  }
 ],
 "metadata": {
  "kernelspec": {
   "display_name": "Python 3 (ipykernel)",
   "language": "python",
   "name": "python3"
  },
  "language_info": {
   "codemirror_mode": {
    "name": "ipython",
    "version": 3
   },
   "file_extension": ".py",
   "mimetype": "text/x-python",
   "name": "python",
   "nbconvert_exporter": "python",
   "pygments_lexer": "ipython3",
   "version": "3.10.8"
  }
 },
 "nbformat": 4,
 "nbformat_minor": 5
}
