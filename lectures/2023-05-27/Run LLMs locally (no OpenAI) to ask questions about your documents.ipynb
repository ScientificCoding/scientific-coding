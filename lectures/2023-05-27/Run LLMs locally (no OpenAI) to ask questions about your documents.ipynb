{
 "cells": [
  {
   "cell_type": "markdown",
   "id": "b91d7e1b-4689-4702-9f1d-86b7889f01d0",
   "metadata": {},
   "source": [
    "### Run LLMs locally (no OpenAI) to ask questions about your documents"
   ]
  },
  {
   "cell_type": "code",
   "execution_count": null,
   "id": "8f9d8bd0-e12d-4699-9057-2d31a7e85d5d",
   "metadata": {},
   "outputs": [],
   "source": [
    "_ = !pip install langchain\n",
    "_ = !pip install transformers\n",
    "_ = !pip install sentence_transformers\n",
    "_ = !pip install xformers\n",
    "_ = !pip install unstructured\n",
    "_ = !pip install chromadb"
   ]
  },
  {
   "cell_type": "code",
   "execution_count": null,
   "id": "80e9879c-2b0d-4ca1-9352-456fcda93dfc",
   "metadata": {},
   "outputs": [],
   "source": [
    "from langchain import HuggingFacePipeline\n",
    "from langchain.embeddings import HuggingFaceEmbeddings\n",
    "from langchain.document_loaders import UnstructuredHTMLLoader\n",
    "from langchain.indexes import VectorstoreIndexCreator"
   ]
  },
  {
   "cell_type": "code",
   "execution_count": null,
   "id": "e6bff688-aaf6-4f62-8692-136623e9cdbd",
   "metadata": {},
   "outputs": [],
   "source": [
    "hf_embeddings = HuggingFaceEmbeddings()"
   ]
  },
  {
   "cell_type": "code",
   "execution_count": null,
   "id": "96c160b9-9830-482c-aea9-cabb44acf10b",
   "metadata": {},
   "outputs": [],
   "source": [
    "model_id = '<author-institution>/<name>' # find a suited text generation model on huggingface\n",
    "llm = HuggingFacePipeline.from_model_id(model_id=model_id, device=0, task=\"text-generation\", model_kwargs={\"temperature\":0, \"max_length\":2048})"
   ]
  },
  {
   "cell_type": "code",
   "execution_count": null,
   "id": "f86acee1-7764-4449-a082-af25ef2a2881",
   "metadata": {},
   "outputs": [],
   "source": [
    "!curl https://en.wikipedia.org/wiki/Solar_cell > wiki_solar.html"
   ]
  },
  {
   "cell_type": "code",
   "execution_count": null,
   "id": "0cf00c6c-4ea1-4a59-9438-3070fc82849d",
   "metadata": {},
   "outputs": [],
   "source": [
    "url = 'wiki_solar.html'\n",
    "loader = UnstructuredHTMLLoader(url)"
   ]
  },
  {
   "cell_type": "code",
   "execution_count": null,
   "id": "3d8a87d7-6c61-4c88-a002-0a7c21053029",
   "metadata": {},
   "outputs": [],
   "source": [
    "index = VectorstoreIndexCreator(embedding=hf_embeddings).from_loaders([loader])"
   ]
  },
  {
   "cell_type": "code",
   "execution_count": null,
   "id": "c6720863-9556-4fae-971f-6cdfe7f1793c",
   "metadata": {},
   "outputs": [],
   "source": [
    "question = 'What is the highest efficiency achieved for a solar cell?'\n",
    "index.query(question=question, llm=llm)"
   ]
  },
  {
   "cell_type": "code",
   "execution_count": null,
   "id": "3cc22f76-6eb0-400f-b80b-4cf96d8f6fad",
   "metadata": {},
   "outputs": [],
   "source": [
    "question = \"What is the population of the United States of America?\"\n",
    "index.query(question=question, llm=llm)"
   ]
  }
 ],
 "metadata": {
  "kernelspec": {
   "display_name": "Python 3 (ipykernel)",
   "language": "python",
   "name": "python3"
  },
  "language_info": {
   "codemirror_mode": {
    "name": "ipython",
    "version": 3
   },
   "file_extension": ".py",
   "mimetype": "text/x-python",
   "name": "python",
   "nbconvert_exporter": "python",
   "pygments_lexer": "ipython3",
   "version": "3.8.15"
  }
 },
 "nbformat": 4,
 "nbformat_minor": 5
}
