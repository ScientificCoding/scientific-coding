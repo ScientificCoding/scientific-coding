{
 "cells": [
  {
   "cell_type": "markdown",
   "id": "a42127ba",
   "metadata": {},
   "source": [
    "## Train a LLM to answer questions about pdf file content\n",
    "\n",
    "This example shows how to train a LLM on a couple of pdf documents. I chose official tax guidelines as an example to then ask questions to the LLM about the complex content around taxes.\n",
    "\n",
    "Disclaimer: Do not actually use this to file your taxes. This is for demo and eductation purposes only. There is no guarantee at this point that the responses are  accurate or reliable."
   ]
  },
  {
   "cell_type": "code",
   "execution_count": null,
   "id": "81a77b1e",
   "metadata": {},
   "outputs": [],
   "source": [
    "_ = !pip install langchain\n",
    "_ = !pip install unstructured\n",
    "_ = !pip install openai\n",
    "_ = !pip install pybind11\n",
    "_ = !pip install chromadb\n",
    "_ = !pip install Cython\n",
    "_ = !pip3 install \"git+https://github.com/philferriere/cocoapi.git#egg=pycocotools&subdirectory=PythonAPI\"\n",
    "_ = !pip install unstructured[local-inference]\n",
    "_ = !CC=clang CXX=clang++ ARCHFLAGS=\"-arch x86_64\" pip install 'git+https://github.com/facebookresearch/detectron2.git'\n",
    "_ = !pip install layoutparser[layoutmodels,tesseract]\n",
    "_ = !pip install pytesseract"
   ]
  },
  {
   "cell_type": "code",
   "execution_count": null,
   "id": "c35bc86b",
   "metadata": {},
   "outputs": [],
   "source": [
    "import os\n",
    "os.environ['OPENAI_API_KEY'] = 'your OpenAI API key here'\n",
    "# to obtain a free API key, create an account at https://openai.com/ "
   ]
  },
  {
   "cell_type": "code",
   "execution_count": null,
   "id": "f8ec8541",
   "metadata": {},
   "outputs": [],
   "source": [
    "from langchain.document_loaders import UnstructuredPDFLoader\n",
    "from langchain.indexes import VectorstoreIndexCreator"
   ]
  },
  {
   "cell_type": "code",
   "execution_count": null,
   "id": "63e6b1b4",
   "metadata": {},
   "outputs": [],
   "source": [
    "from detectron2.config import get_cfg\n",
    "cfg = get_cfg()    \n",
    "cfg.MODEL.DEVICE = 'cpu' #GPU is recommended"
   ]
  },
  {
   "cell_type": "code",
   "execution_count": null,
   "id": "785b2541",
   "metadata": {},
   "outputs": [],
   "source": [
    "# tax filing instruction files provided by IRS.gov. Stored locally\n",
    "!ls text/"
   ]
  },
  {
   "cell_type": "code",
   "execution_count": null,
   "id": "d93cc510",
   "metadata": {},
   "outputs": [],
   "source": [
    "text_folder = 'text'\n",
    "loaders = [UnstructuredPDFLoader(os.path.join(text_folder, fn)) for fn in os.listdir(text_folder)]"
   ]
  },
  {
   "cell_type": "code",
   "execution_count": null,
   "id": "1485a00c",
   "metadata": {},
   "outputs": [],
   "source": [
    "index = VectorstoreIndexCreator().from_loaders(loaders)"
   ]
  },
  {
   "cell_type": "code",
   "execution_count": null,
   "id": "807762e5",
   "metadata": {},
   "outputs": [],
   "source": [
    "query = \"Why do I have to file taxes?\"\n",
    "index.query(query)"
   ]
  },
  {
   "cell_type": "code",
   "execution_count": null,
   "id": "6997a59e",
   "metadata": {},
   "outputs": [],
   "source": [
    "query = \"Where do I report my income as stated on my W-2?\"\n",
    "index.query(query)"
   ]
  },
  {
   "cell_type": "code",
   "execution_count": null,
   "id": "682c739a",
   "metadata": {},
   "outputs": [],
   "source": [
    "query = \"What kind of expenses can I deduct?\"\n",
    "index.query(query)"
   ]
  },
  {
   "cell_type": "code",
   "execution_count": null,
   "id": "e59c234e",
   "metadata": {},
   "outputs": [],
   "source": [
    "query = \"I sold my house when I moved. Do I have to pay taxes?\"\n",
    "index.query(query)"
   ]
  },
  {
   "cell_type": "code",
   "execution_count": null,
   "id": "00a5aa47",
   "metadata": {},
   "outputs": [],
   "source": [
    "query = \"How do I fill out Form 8949?\"\n",
    "index.query(query)"
   ]
  },
  {
   "cell_type": "code",
   "execution_count": null,
   "id": "5cba31f2",
   "metadata": {},
   "outputs": [],
   "source": [
    "query = \"By when do I have to file taxes?\"\n",
    "index.query(query)"
   ]
  }
 ],
 "metadata": {
  "@webio": {
   "lastCommId": null,
   "lastKernelId": null
  },
  "kernelspec": {
   "display_name": "python-3.10.8",
   "language": "python",
   "name": "python-3.10.8"
  },
  "language_info": {
   "codemirror_mode": {
    "name": "ipython",
    "version": 3
   },
   "file_extension": ".py",
   "mimetype": "text/x-python",
   "name": "python",
   "nbconvert_exporter": "python",
   "pygments_lexer": "ipython3",
   "version": "3.10.8"
  }
 },
 "nbformat": 4,
 "nbformat_minor": 5
}
