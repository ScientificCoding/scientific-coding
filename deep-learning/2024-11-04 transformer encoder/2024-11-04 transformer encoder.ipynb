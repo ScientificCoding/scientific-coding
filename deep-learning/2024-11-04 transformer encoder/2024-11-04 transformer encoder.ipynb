{
 "cells": [
  {
   "cell_type": "code",
   "execution_count": 1,
   "metadata": {},
   "outputs": [],
   "source": [
    "_ = !python3.12 -m pip install torch\n",
    "import warnings\n",
    "warnings.filterwarnings('ignore')"
   ]
  },
  {
   "cell_type": "code",
   "execution_count": 2,
   "metadata": {},
   "outputs": [],
   "source": [
    "import math\n",
    "import torch\n",
    "import torch.nn as nn\n",
    "import torch.nn.functional as F\n",
    "from torch.nn import TransformerEncoder, TransformerEncoderLayer, MultiheadAttention"
   ]
  },
  {
   "cell_type": "code",
   "execution_count": 3,
   "metadata": {},
   "outputs": [],
   "source": [
    "n_batch = 16\n",
    "n_sequence = 20\n",
    "n_features = 512\n",
    "n_heads = 4\n",
    "dim_feedforward = 1024\n",
    "dropout = 0.0"
   ]
  },
  {
   "cell_type": "code",
   "execution_count": 4,
   "metadata": {},
   "outputs": [
    {
     "data": {
      "text/plain": [
       "torch.Size([16, 20, 512])"
      ]
     },
     "execution_count": 4,
     "metadata": {},
     "output_type": "execute_result"
    }
   ],
   "source": [
    "x = torch.rand(n_batch, n_sequence, n_features)\n",
    "x.shape"
   ]
  },
  {
   "cell_type": "code",
   "execution_count": 5,
   "metadata": {},
   "outputs": [
    {
     "data": {
      "text/plain": [
       "torch.Size([16, 20, 512])"
      ]
     },
     "execution_count": 5,
     "metadata": {},
     "output_type": "execute_result"
    }
   ],
   "source": [
    "transformer_encoder_layer = TransformerEncoderLayer(d_model=n_features, nhead=n_heads, dim_feedforward=dim_feedforward, dropout=dropout, batch_first=True)\n",
    "y = transformer_encoder_layer(x)\n",
    "y.shape"
   ]
  },
  {
   "cell_type": "code",
   "execution_count": 6,
   "metadata": {},
   "outputs": [
    {
     "data": {
      "text/plain": [
       "torch.Size([16, 20, 512])"
      ]
     },
     "execution_count": 6,
     "metadata": {},
     "output_type": "execute_result"
    }
   ],
   "source": [
    "n_layers = 5\n",
    "transformer_encoder = TransformerEncoder(encoder_layer=transformer_encoder_layer, num_layers=n_layers)\n",
    "y = transformer_encoder(x)\n",
    "y.shape"
   ]
  },
  {
   "cell_type": "code",
   "execution_count": 7,
   "metadata": {},
   "outputs": [
    {
     "name": "stdout",
     "output_type": "stream",
     "text": [
      "2102784\n",
      "10513920\n",
      "True\n"
     ]
    }
   ],
   "source": [
    "def count_trainable_parameters(model: nn.Module):\n",
    "    return sum(p.numel() for p in model.parameters() if p.requires_grad)\n",
    "\n",
    "print(count_trainable_parameters(transformer_encoder_layer))\n",
    "print(count_trainable_parameters(transformer_encoder))\n",
    "\n",
    "print(count_trainable_parameters(transformer_encoder_layer) * n_layers == count_trainable_parameters(transformer_encoder))"
   ]
  },
  {
   "cell_type": "code",
   "execution_count": 8,
   "metadata": {},
   "outputs": [],
   "source": [
    "class MyTransformerEncoderLayer(nn.Module):\n",
    "\n",
    "    def __init__(self, d_model: int, nhead: int, dim_feedforward: int, dropout: float, batch_first: bool):\n",
    "        super(MyTransformerEncoderLayer, self).__init__()\n",
    "        self.attention = MultiheadAttention(embed_dim=d_model, num_heads=nhead, batch_first=True)\n",
    "        self.feedforward = nn.ModuleList([\n",
    "            nn.Linear(d_model, dim_feedforward),\n",
    "            nn.ReLU(),\n",
    "            nn.Dropout(dropout),\n",
    "            nn.Linear(dim_feedforward, d_model)\n",
    "        ])\n",
    "        self.dropout_1 = nn.Dropout(dropout)\n",
    "        self.layer_norm_1 = nn.LayerNorm(d_model)\n",
    "        self.dropout_2 = nn.Dropout(dropout)\n",
    "        self.layer_norm_2 = nn.LayerNorm(d_model)\n",
    "    \n",
    "    def forward(self, x: torch.Tensor) -> torch.Tensor:\n",
    "        \n",
    "        _x = x.clone()\n",
    "        x, _ = self.attention(x, x, x)\n",
    "        x = self.dropout_1(x)\n",
    "        x = x + _x\n",
    "        x = self.layer_norm_1(x)\n",
    "\n",
    "        _x = x.clone()\n",
    "        for _module in self.feedforward:\n",
    "            x = _module(x)\n",
    "        x = self.dropout_2(x)\n",
    "        x = x + _x\n",
    "        x = self.layer_norm_2(x)\n",
    "\n",
    "        return x\n",
    "        "
   ]
  },
  {
   "cell_type": "code",
   "execution_count": 9,
   "metadata": {},
   "outputs": [
    {
     "data": {
      "text/plain": [
       "torch.Size([16, 20, 512])"
      ]
     },
     "execution_count": 9,
     "metadata": {},
     "output_type": "execute_result"
    }
   ],
   "source": [
    "my_transformer_encoder_layer = MyTransformerEncoderLayer(d_model=n_features, nhead=n_heads, dim_feedforward=dim_feedforward, dropout=dropout, batch_first=True)\n",
    "y = my_transformer_encoder_layer(x)\n",
    "y.shape"
   ]
  },
  {
   "cell_type": "code",
   "execution_count": 10,
   "metadata": {},
   "outputs": [
    {
     "name": "stdout",
     "output_type": "stream",
     "text": [
      "2102784\n",
      "2102784\n"
     ]
    }
   ],
   "source": [
    "print(count_trainable_parameters(my_transformer_encoder_layer))\n",
    "print(count_trainable_parameters(transformer_encoder_layer))"
   ]
  },
  {
   "cell_type": "code",
   "execution_count": 12,
   "metadata": {},
   "outputs": [],
   "source": [
    "attention = MultiheadAttention(embed_dim=n_features, num_heads=n_heads, batch_first=True)"
   ]
  },
  {
   "cell_type": "markdown",
   "metadata": {},
   "source": []
  },
  {
   "cell_type": "code",
   "execution_count": 19,
   "metadata": {},
   "outputs": [],
   "source": [
    "class MyUnmaskedMultiheadAttention(nn.Module):\n",
    "\n",
    "    def __init__(self, embed_dim: int, num_heads: int):\n",
    "        super(MyUnmaskedMultiheadAttention, self).__init__()\n",
    "        self.w_q = nn.Linear(embed_dim, embed_dim)\n",
    "        self.w_k = nn.Linear(embed_dim, embed_dim)\n",
    "        self.w_v = nn.Linear(embed_dim, embed_dim)\n",
    "\n",
    "        if embed_dim % num_heads != 0:\n",
    "            raise ValueError(\"embed_dim must be divisible by num_heads\")\n",
    "\n",
    "        self.n_features = embed_dim\n",
    "        self.n_heads = num_heads\n",
    "        self.head_dim = int(embed_dim / num_heads)\n",
    "\n",
    "        self.linear_out = nn.Linear(embed_dim, embed_dim)\n",
    "    \n",
    "    def forward(self, q, k, v) -> torch.Tensor:\n",
    "        n_batch, _, _ = q.shape\n",
    "        q = self.w_q(q).view(n_batch, -1, self.n_heads, self.head_dim).transpose(1, 2) # n_batch, n_heads, n_sequence, head_dim\n",
    "        k = self.w_k(k).view(n_batch, -1, self.n_heads, self.head_dim).transpose(1, 2)\n",
    "        v = self.w_v(v).view(n_batch, -1, self.n_heads, self.head_dim).transpose(1, 2) \n",
    "\n",
    "        k_t = k.transpose(-2, -1) # n_batch, n_heads, head_dim, n_sequence\n",
    "\n",
    "        scores = torch.matmul(q, k_t) / math.sqrt(self.head_dim) # n_batch, n_heads, n_sequence, n_sequence\n",
    "\n",
    "        attention_weights = F.softmax(scores, dim=-1) # n_batch, n_heads, n_sequence, n_sequence\n",
    "        output = torch.matmul(attention_weights, v)   # n_batch, n_heads, n_sequence, n_sequence __X__ n_batch, n_heads, n_sequence, head_dim \n",
    "                                                      # = n_batch, n_heads, n_sequence, head_dim\n",
    "\n",
    "        # reconcatenate the heads\n",
    "        output = output.transpose(1, 2).contiguous().view(n_batch, -1, self.n_features) # n_batch, n_sequence, n_features\n",
    "\n",
    "        output = self.linear_out(output)\n",
    "\n",
    "        return output, attention_weights"
   ]
  },
  {
   "cell_type": "code",
   "execution_count": 20,
   "metadata": {},
   "outputs": [],
   "source": [
    "my_attention = MyUnmaskedMultiheadAttention(embed_dim=n_features, num_heads=n_heads)"
   ]
  },
  {
   "cell_type": "code",
   "execution_count": 21,
   "metadata": {},
   "outputs": [
    {
     "name": "stdout",
     "output_type": "stream",
     "text": [
      "1050624\n",
      "1050624\n"
     ]
    }
   ],
   "source": [
    "print(count_trainable_parameters(attention))\n",
    "print(count_trainable_parameters(my_attention))"
   ]
  },
  {
   "cell_type": "code",
   "execution_count": 23,
   "metadata": {},
   "outputs": [
    {
     "data": {
      "text/plain": [
       "torch.Size([16, 20, 512])"
      ]
     },
     "execution_count": 23,
     "metadata": {},
     "output_type": "execute_result"
    }
   ],
   "source": [
    "my_attention(x, x, x)[0].shape"
   ]
  },
  {
   "cell_type": "code",
   "execution_count": 24,
   "metadata": {},
   "outputs": [
    {
     "data": {
      "text/plain": [
       "torch.Size([16, 20, 512])"
      ]
     },
     "execution_count": 24,
     "metadata": {},
     "output_type": "execute_result"
    }
   ],
   "source": [
    "attention(x, x, x)[0].shape"
   ]
  },
  {
   "cell_type": "code",
   "execution_count": null,
   "metadata": {},
   "outputs": [],
   "source": []
  },
  {
   "cell_type": "code",
   "execution_count": null,
   "metadata": {},
   "outputs": [],
   "source": []
  }
 ],
 "metadata": {
  "kernelspec": {
   "display_name": "Python 3",
   "language": "python",
   "name": "python3"
  },
  "language_info": {
   "codemirror_mode": {
    "name": "ipython",
    "version": 3
   },
   "file_extension": ".py",
   "mimetype": "text/x-python",
   "name": "python",
   "nbconvert_exporter": "python",
   "pygments_lexer": "ipython3",
   "version": "3.12.7"
  }
 },
 "nbformat": 4,
 "nbformat_minor": 2
}
