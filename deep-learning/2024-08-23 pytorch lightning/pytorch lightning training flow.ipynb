{
 "cells": [
  {
   "cell_type": "markdown",
   "id": "a9756656-66c3-4130-a2d9-c461b708f944",
   "metadata": {},
   "source": [
    "# Pytorch-Lightning Training Flow\n",
    "- Create our own sample data\n",
    "- Construct a multilayer neural network classifier\n",
    "- Setup pytorch-lightning training flow\n",
    "- Analyze training runs with tensorboard"
   ]
  },
  {
   "cell_type": "code",
   "execution_count": null,
   "id": "6604d7e8-1d0c-428c-9436-83ae71bf332f",
   "metadata": {},
   "outputs": [],
   "source": [
    "_ = !pip install torch\n",
    "_ = !pip install matplotlib\n",
    "_ = !pip install scikit-learn\n",
    "_ = !pip install pytorch-lightning\n",
    "_ = !pip install tensorboard"
   ]
  },
  {
   "cell_type": "code",
   "execution_count": null,
   "id": "0aae96a8-b9f8-4534-a2a6-9922b72c79aa",
   "metadata": {},
   "outputs": [],
   "source": [
    "from typing import Tuple\n",
    "import numpy as np\n",
    "import matplotlib.pyplot as plt\n",
    "import torch\n",
    "import torch.nn as nn\n",
    "import torch.optim as optim\n",
    "from torch.utils.data import Dataset, DataLoader\n",
    "import pytorch_lightning as pl\n",
    "from pytorch_lightning import Trainer"
   ]
  },
  {
   "cell_type": "markdown",
   "id": "7a81323b-e97c-4564-8a23-22e0686b48ea",
   "metadata": {},
   "source": [
    "### Mock data generation\n",
    "- X: 2D cartesian data\n",
    "    - x,y coordinates\n",
    "- Labels:\n",
    "    - \"1\" if point inside a circle with radius 0.5\n",
    "    - \"0\" if point is outside circle\n",
    " \n",
    "Data should be stratified for best training results, meaning there should be an approximately even number of data points representing \"0\" and \"1\" labels."
   ]
  },
  {
   "cell_type": "code",
   "execution_count": null,
   "id": "0eb70cb4-ebc5-4720-8820-3cda0761968e",
   "metadata": {},
   "outputs": [],
   "source": [
    "def create_mock_data(n_records: int, n_features: int) -> Tuple[np.ndarray, np.ndarray]:\n",
    "\n",
    "    def _is_inside_circle(_x: np.ndarray) -> int:\n",
    "        if np.sqrt(np.sum(np.square(_x))) < 0.5:\n",
    "            return 1\n",
    "        else:\n",
    "            return 0\n",
    "    \n",
    "    _x = (np.random.random(size=(n_records, n_features)) - 0.5)\n",
    "    _labels = np.apply_along_axis(_is_inside_circle, axis=1, arr=_x)\n",
    "\n",
    "    return _x, _labels"
   ]
  },
  {
   "cell_type": "code",
   "execution_count": null,
   "id": "80570e74-3f82-4c10-9ed2-65bb52934acd",
   "metadata": {},
   "outputs": [],
   "source": [
    "x, labels = create_mock_data(10000, 2)"
   ]
  },
  {
   "cell_type": "code",
   "execution_count": null,
   "id": "edaaba96-18ee-4d36-9d6e-2340c3df0628",
   "metadata": {},
   "outputs": [],
   "source": [
    "plt.scatter(x=x[:, 0], y=x[:, 1], c=labels)"
   ]
  },
  {
   "cell_type": "code",
   "execution_count": null,
   "id": "7afa9e4c-c14c-428a-9cdc-82501dda43c6",
   "metadata": {},
   "outputs": [],
   "source": [
    "def stratified_sample(_x: np.ndarray, _labels: np.ndarray, n_each: int) -> Tuple[np.ndarray, np.ndarray]:\n",
    "    unique_labels = np.unique(_labels)\n",
    "    row_indices = np.arange(_x.shape[0])\n",
    "    sample_x = []\n",
    "    sample_labels = []\n",
    "    for unique_label in unique_labels:\n",
    "        _idx = np.random.choice(row_indices[np.where(_labels == unique_label)], size=n_each, replace=False)\n",
    "        sample_x.append(_x[_idx])\n",
    "        sample_labels.append(_labels[_idx])\n",
    "        \n",
    "    return np.concatenate(sample_x), np.concatenate(sample_labels)"
   ]
  },
  {
   "cell_type": "code",
   "execution_count": null,
   "id": "d2e0de1c-8776-477a-935d-8a7d5af8db3b",
   "metadata": {},
   "outputs": [],
   "source": [
    "def create_stratified_mock_data(n_records: int, n_features: int):\n",
    "    pool_x, pool_labels = create_mock_data(n_records=10*n_records, n_features=n_features)\n",
    "    return stratified_sample(pool_x, pool_labels, n_each=n_records//2) "
   ]
  },
  {
   "cell_type": "code",
   "execution_count": null,
   "id": "a421497f-32e7-4690-a522-7c5542632693",
   "metadata": {},
   "outputs": [],
   "source": [
    "x, labels = create_stratified_mock_data(n_records=200, n_features=2)"
   ]
  },
  {
   "cell_type": "code",
   "execution_count": null,
   "id": "49a82233-0a8a-424a-a8c0-21495bbc00ef",
   "metadata": {},
   "outputs": [],
   "source": [
    "plt.scatter(x=x[:, 0], y=x[:, 1], c=labels)"
   ]
  },
  {
   "cell_type": "markdown",
   "id": "e5008fb2-b809-492f-9a7f-2cc53f6ffa4f",
   "metadata": {},
   "source": [
    "### Create Pytorch data sets for training and validation"
   ]
  },
  {
   "cell_type": "code",
   "execution_count": null,
   "id": "9234ba05-73eb-41f8-8de3-da5423b8ad08",
   "metadata": {},
   "outputs": [],
   "source": [
    "class MockDataset(Dataset):\n",
    "\n",
    "    def __init__(self, x: np.ndarray, labels: np.ndarray):\n",
    "        self.x = torch.tensor(x, dtype=torch.float32)\n",
    "        self.labels = torch.tensor(labels)\n",
    "\n",
    "    def __getitem__(self, index):\n",
    "        return self.x[index], self.labels[index]\n",
    "\n",
    "    def __len__(self):\n",
    "        return self.x.shape[0]"
   ]
  },
  {
   "cell_type": "code",
   "execution_count": null,
   "id": "53d6323d-c69b-4ec7-a645-431db11e227e",
   "metadata": {},
   "outputs": [],
   "source": [
    "n_features = 2\n",
    "training_data_set = MockDataset(*create_stratified_mock_data(n_records=10000, n_features=n_features))\n",
    "validation_data_set = MockDataset(*create_stratified_mock_data(n_records=500, n_features=n_features))"
   ]
  },
  {
   "cell_type": "markdown",
   "id": "2b9a51d4-e77e-46b2-830a-2fc88a940dea",
   "metadata": {},
   "source": [
    "### Build model with Pytorch-Lightning"
   ]
  },
  {
   "cell_type": "code",
   "execution_count": null,
   "id": "37d4cf3f-5879-41b9-965d-b3171d8ff1c0",
   "metadata": {},
   "outputs": [],
   "source": [
    "LEARNING_RATE = 1e-2\n",
    "BATCH_SIZE = 32"
   ]
  },
  {
   "cell_type": "code",
   "execution_count": null,
   "id": "52a06e9d-e7da-4953-af1c-cb07aa3b4ce7",
   "metadata": {},
   "outputs": [],
   "source": [
    "class MLP(pl.LightningModule):\n",
    "    def __init__(self, n_features: int, n_hidden_layers: int, nodes_per_layer: int, include_batch_norm: bool):\n",
    "        super().__init__()\n",
    "        self.include_batch_norm = include_batch_norm\n",
    "        self.input_layer = nn.Linear(n_features, nodes_per_layer)\n",
    "        self.n_hidden_layers = n_hidden_layers\n",
    "        for i in range(n_hidden_layers):\n",
    "            setattr(self, f\"hidden_layer_{i}\", nn.Linear(nodes_per_layer, nodes_per_layer))\n",
    "\n",
    "            if include_batch_norm:\n",
    "                setattr(self, f\"batch_norm_{i}\", nn.BatchNorm1d(nodes_per_layer))\n",
    "\n",
    "        self.output_layer = nn.Linear(nodes_per_layer, 2)\n",
    "\n",
    "    def forward(self, x: torch.Tensor) -> torch.Tensor:\n",
    "        x = self.input_layer(x)\n",
    "        x = torch.relu(x)\n",
    "        for i in range(self.n_hidden_layers):\n",
    "            layer = getattr(self, f\"hidden_layer_{i}\")\n",
    "            x = layer(x)\n",
    "            if self.include_batch_norm:\n",
    "                batch_norm = getattr(self, f\"batch_norm_{i}\")\n",
    "                x = batch_norm(x)\n",
    "            x = torch.relu(x)\n",
    "        x = self.output_layer(x)\n",
    "        return x\n",
    "\n",
    "    def configure_optimizers(self):\n",
    "        optimizer = optim.Adam(self.parameters(), lr=LEARNING_RATE)\n",
    "        return optimizer\n",
    "\n",
    "    def training_step(self, train_batch, batch_idx):\n",
    "        x, y = train_batch\n",
    "        y_hat = self(x)\n",
    "        loss = torch.nn.functional.cross_entropy(y_hat, y)\n",
    "        self.log(\"train_loss\", loss, on_epoch=True)\n",
    "        return {\"loss\": loss}\n",
    "                \n",
    "    def validation_step(self, validation_batch, batch_idx):\n",
    "        x, y = validation_batch\n",
    "        y_hat = self(x)\n",
    "        loss = torch.nn.functional.cross_entropy(y_hat, y)\n",
    "        self.log(\"validation_loss\", loss)\n",
    "        return {\"loss\": loss}"
   ]
  },
  {
   "cell_type": "markdown",
   "id": "660c74c3-4dca-4443-860d-539c609f5443",
   "metadata": {},
   "source": [
    "### Run Pytorch-Lightning trainer"
   ]
  },
  {
   "cell_type": "code",
   "execution_count": null,
   "id": "2243fe23-79e9-4992-975a-18885ac8374e",
   "metadata": {},
   "outputs": [],
   "source": [
    "train_data_loader = DataLoader(training_data_set, batch_size=BATCH_SIZE, shuffle=True, num_workers=7)\n",
    "validation_data_loader = DataLoader(validation_data_set, batch_size=BATCH_SIZE, shuffle=False, num_workers=7)"
   ]
  },
  {
   "cell_type": "code",
   "execution_count": null,
   "id": "d27cca1a-a391-4815-b0d1-a8926adf1175",
   "metadata": {},
   "outputs": [],
   "source": [
    "trainer = Trainer(max_epochs=15)"
   ]
  },
  {
   "cell_type": "code",
   "execution_count": null,
   "id": "9d105269-148b-43e6-8fd2-70b80e927430",
   "metadata": {},
   "outputs": [],
   "source": [
    "model = MLP(n_features=2, n_hidden_layers=2, nodes_per_layer=4, include_batch_norm=True)\n",
    "trainer.fit(model, train_data_loader, validation_data_loader)"
   ]
  },
  {
   "cell_type": "code",
   "execution_count": null,
   "id": "0fc3f14b-8d0f-41e8-a78e-0556bab130a4",
   "metadata": {},
   "outputs": [],
   "source": [
    "%reload_ext tensorboard\n",
    "%tensorboard --logdir=lightning_logs/"
   ]
  },
  {
   "cell_type": "code",
   "execution_count": null,
   "id": "c4dd485d-7618-45c9-b405-81b67537b7c9",
   "metadata": {},
   "outputs": [],
   "source": []
  }
 ],
 "metadata": {
  "kernelspec": {
   "display_name": "Python 3 (ipykernel)",
   "language": "python",
   "name": "python3"
  },
  "language_info": {
   "codemirror_mode": {
    "name": "ipython",
    "version": 3
   },
   "file_extension": ".py",
   "mimetype": "text/x-python",
   "name": "python",
   "nbconvert_exporter": "python",
   "pygments_lexer": "ipython3",
   "version": "3.10.8"
  }
 },
 "nbformat": 4,
 "nbformat_minor": 5
}
