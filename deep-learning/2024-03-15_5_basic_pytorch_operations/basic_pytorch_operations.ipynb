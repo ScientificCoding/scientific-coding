{
 "cells": [
  {
   "cell_type": "markdown",
   "id": "97ea8f8e-72ab-42db-a918-f7c8d88fe0bc",
   "metadata": {},
   "source": [
    "# 5 basic pytorch operations\n",
    "### for efficient deep learning flows"
   ]
  },
  {
   "cell_type": "code",
   "execution_count": null,
   "id": "ca8c0377-0eec-466e-adec-d5b5c7c101c8",
   "metadata": {},
   "outputs": [],
   "source": [
    "_ = !pip install torch"
   ]
  },
  {
   "cell_type": "code",
   "execution_count": null,
   "id": "0bf30ad0-05ec-42e3-972f-c96ed6b7529d",
   "metadata": {},
   "outputs": [],
   "source": [
    "import torch"
   ]
  },
  {
   "cell_type": "markdown",
   "id": "142af69d-a5ad-4560-a223-888466a94a3d",
   "metadata": {},
   "source": [
    "## 1. torch.arange"
   ]
  },
  {
   "cell_type": "code",
   "execution_count": null,
   "id": "44a4ed38-f01c-4fc7-9cb7-a70d9f38bb0a",
   "metadata": {},
   "outputs": [],
   "source": [
    "x = torch.arange(0, 100, 10)\n",
    "x"
   ]
  },
  {
   "cell_type": "code",
   "execution_count": null,
   "id": "24b408a4-10e3-413a-8dc1-c4a5ae14705c",
   "metadata": {},
   "outputs": [],
   "source": [
    "x = torch.arange(0, 100, 5)\n",
    "x"
   ]
  },
  {
   "cell_type": "code",
   "execution_count": null,
   "id": "687bec84-ff48-47c3-88c2-bd194ffc7812",
   "metadata": {},
   "outputs": [],
   "source": [
    "x = torch.arange(0, 100)\n",
    "x"
   ]
  },
  {
   "cell_type": "code",
   "execution_count": null,
   "id": "892480a0-a051-4898-b94d-cfd39e8c2995",
   "metadata": {},
   "outputs": [],
   "source": [
    "x = torch.arange(100, 0, -2)\n",
    "x"
   ]
  },
  {
   "cell_type": "markdown",
   "id": "6e8369b5-8dba-4d86-9a16-1f3aa7e87c79",
   "metadata": {},
   "source": [
    "## 2. reshape"
   ]
  },
  {
   "cell_type": "code",
   "execution_count": null,
   "id": "f91455f4-210d-4d91-8be5-93b339d06efa",
   "metadata": {},
   "outputs": [],
   "source": [
    "x = torch.arange(0, 16)\n",
    "x"
   ]
  },
  {
   "cell_type": "code",
   "execution_count": null,
   "id": "cbeac524-eaa6-44ae-9ecc-e8457828c64b",
   "metadata": {},
   "outputs": [],
   "source": [
    "x.reshape(4, 4)"
   ]
  },
  {
   "cell_type": "code",
   "execution_count": null,
   "id": "d79ca911-bb83-4014-9754-52d55c146d99",
   "metadata": {},
   "outputs": [],
   "source": [
    "x.reshape(2, 8)"
   ]
  },
  {
   "cell_type": "code",
   "execution_count": null,
   "id": "a09f04cb-0443-4527-8b3c-1e77fd49991a",
   "metadata": {},
   "outputs": [],
   "source": [
    "x.reshape(1, 16)"
   ]
  },
  {
   "cell_type": "code",
   "execution_count": null,
   "id": "b1ed86a7-9d09-4b45-9c0a-98e9304fde5f",
   "metadata": {},
   "outputs": [],
   "source": [
    "x.reshape(-1, 1)"
   ]
  },
  {
   "cell_type": "code",
   "execution_count": null,
   "id": "1e939821-1445-472f-9378-cae63a605cf9",
   "metadata": {},
   "outputs": [],
   "source": [
    "x.reshape(-1, 1).shape"
   ]
  },
  {
   "cell_type": "markdown",
   "id": "84e50e16-54e7-47af-9037-4aa81cd194c6",
   "metadata": {},
   "source": [
    "## 3. view()"
   ]
  },
  {
   "cell_type": "markdown",
   "id": "d5ba8577-ca26-4af4-b5ab-791d16ff1c7a",
   "metadata": {},
   "source": [
    "Similar to reshape, <u>but</u> returns a new view of the same, <b>not</b> a new tensor. Changes to the returned tensor will be reflected in the original tensor."
   ]
  },
  {
   "cell_type": "code",
   "execution_count": null,
   "id": "e5803f59-e2c9-4184-b24f-efdb8131040a",
   "metadata": {},
   "outputs": [],
   "source": [
    "x = torch.arange(0, 16)\n",
    "print(x.shape)\n",
    "x"
   ]
  },
  {
   "cell_type": "code",
   "execution_count": null,
   "id": "9c40006d-0162-4492-bf6f-f324639fa6de",
   "metadata": {},
   "outputs": [],
   "source": [
    "x_view = x.view(-1, 1)\n",
    "print(x_view.shape)\n",
    "x_view"
   ]
  },
  {
   "cell_type": "code",
   "execution_count": null,
   "id": "297d57cf-f0a1-4c8a-84c3-329d08711802",
   "metadata": {},
   "outputs": [],
   "source": [
    "x_view[0] = 555"
   ]
  },
  {
   "cell_type": "code",
   "execution_count": null,
   "id": "054eccbb-a017-44c5-b8cb-858e281b5e3c",
   "metadata": {},
   "outputs": [],
   "source": [
    "x_view"
   ]
  },
  {
   "cell_type": "code",
   "execution_count": null,
   "id": "ec387044-76b8-47ee-9354-fc48607c121f",
   "metadata": {},
   "outputs": [],
   "source": [
    "x"
   ]
  },
  {
   "cell_type": "markdown",
   "id": "33f6aa7b-93fb-4172-b392-ad4088ce2eca",
   "metadata": {},
   "source": [
    "## 4. squeeze() and unsqueeze()"
   ]
  },
  {
   "cell_type": "markdown",
   "id": "2eaadcb0-1207-4fb0-9bb8-d61e4d7d0c00",
   "metadata": {},
   "source": [
    "Add and remove singleton dimensions"
   ]
  },
  {
   "cell_type": "code",
   "execution_count": null,
   "id": "ea911251-2fff-4201-a3e2-2966dd8191f1",
   "metadata": {},
   "outputs": [],
   "source": [
    "x = torch.arange(0, 16)\n",
    "print(x.shape)\n",
    "x"
   ]
  },
  {
   "cell_type": "code",
   "execution_count": null,
   "id": "ca8acf02-50d7-4807-be9f-f139bd9a29ff",
   "metadata": {},
   "outputs": [],
   "source": [
    "y = x.unsqueeze(dim=0)\n",
    "print(y.shape)\n",
    "y"
   ]
  },
  {
   "cell_type": "code",
   "execution_count": null,
   "id": "d4955891-dc01-4fcf-ad87-32e96685e06c",
   "metadata": {},
   "outputs": [],
   "source": [
    "z = x.unsqueeze(dim=1)\n",
    "print(z.shape)\n",
    "z"
   ]
  },
  {
   "cell_type": "code",
   "execution_count": null,
   "id": "15bd49d4-d550-48c8-9504-58a0e410a636",
   "metadata": {},
   "outputs": [],
   "source": [
    "a = y.squeeze()\n",
    "print(a.shape)\n",
    "a"
   ]
  },
  {
   "cell_type": "code",
   "execution_count": null,
   "id": "8706655d-d180-43a8-afe6-b7f0d76f4b0a",
   "metadata": {},
   "outputs": [],
   "source": [
    "b = z.squeeze()\n",
    "print(b.shape)\n",
    "b"
   ]
  },
  {
   "cell_type": "code",
   "execution_count": null,
   "id": "77fd043e-d7f4-4ed8-ae04-a09fa4ac4515",
   "metadata": {},
   "outputs": [],
   "source": [
    "h = x.unsqueeze(0).unsqueeze(0)\n",
    "print(h.shape)\n",
    "h"
   ]
  },
  {
   "cell_type": "code",
   "execution_count": null,
   "id": "bad07b5c-4ee0-4823-8e5f-a725b0c74ecf",
   "metadata": {},
   "outputs": [],
   "source": [
    "i = h.squeeze()\n",
    "print(i.shape)\n",
    "i"
   ]
  },
  {
   "cell_type": "markdown",
   "id": "93318a5e-c26c-4888-80b3-f788b26ee431",
   "metadata": {},
   "source": [
    "## 5. repeat"
   ]
  },
  {
   "cell_type": "code",
   "execution_count": null,
   "id": "18eda81a-1539-49f7-83c1-7420d4eb7f0b",
   "metadata": {},
   "outputs": [],
   "source": [
    "x = torch.tensor([4, 5, 6])\n",
    "print(x.shape)\n",
    "x"
   ]
  },
  {
   "cell_type": "code",
   "execution_count": null,
   "id": "ba187ade-e6f2-42aa-bec0-eb4a95828d20",
   "metadata": {},
   "outputs": [],
   "source": [
    "y = x.repeat(3)\n",
    "print(y.shape)\n",
    "y"
   ]
  },
  {
   "cell_type": "code",
   "execution_count": null,
   "id": "55d87589-feb6-43a9-a5b3-1e72a53a0e33",
   "metadata": {},
   "outputs": [],
   "source": [
    "z = x.repeat(3, 4)\n",
    "print(z.shape)\n",
    "z"
   ]
  },
  {
   "cell_type": "code",
   "execution_count": null,
   "id": "d5907d80-63e1-48ff-a89e-03d6d761639a",
   "metadata": {},
   "outputs": [],
   "source": [
    "a = torch.tensor([[5, 6], [7, 8]])\n",
    "print(a.shape)\n",
    "a"
   ]
  },
  {
   "cell_type": "code",
   "execution_count": null,
   "id": "55a84d31-beb3-4038-8279-17004d7c91ec",
   "metadata": {},
   "outputs": [],
   "source": [
    "b = a.repeat(2, 4)\n",
    "print(b.shape)\n",
    "b"
   ]
  }
 ],
 "metadata": {
  "kernelspec": {
   "display_name": "Python 3 (ipykernel)",
   "language": "python",
   "name": "python3"
  },
  "language_info": {
   "codemirror_mode": {
    "name": "ipython",
    "version": 3
   },
   "file_extension": ".py",
   "mimetype": "text/x-python",
   "name": "python",
   "nbconvert_exporter": "python",
   "pygments_lexer": "ipython3",
   "version": "3.10.8"
  }
 },
 "nbformat": 4,
 "nbformat_minor": 5
}
